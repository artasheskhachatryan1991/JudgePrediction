{
 "cells": [
  {
   "cell_type": "code",
   "execution_count": 1,
   "metadata": {},
   "outputs": [],
   "source": [
    "import pandas as pd\n",
    "import numpy as np\n",
    "from scipy.stats import randint as sp_randint\n",
    "from sklearn.metrics import accuracy_score, r2_score\n",
    "from sklearn.model_selection import cross_val_score, RandomizedSearchCV \n",
    "from sklearn.preprocessing import PolynomialFeatures, LabelEncoder\n",
    "from sklearn.linear_model import LinearRegression, Ridge, Lasso, BayesianRidge\n",
    "from sklearn.svm import SVR\n",
    "from sklearn.neural_network import MLPRegressor\n",
    "from mlxtend.regressor import StackingRegressor\n",
    "from sklearn.ensemble import RandomForestRegressor, AdaBoostRegressor, GradientBoostingRegressor, BaggingRegressor\n",
    "from sklearn.gaussian_process import GaussianProcessRegressor\n",
    "from sklearn.tree import DecisionTreeRegressor\n",
    "import matplotlib.pyplot as plt\n",
    "import xgboost as xgb"
   ]
  },
  {
   "cell_type": "code",
   "execution_count": 2,
   "metadata": {},
   "outputs": [],
   "source": [
    "def calculate_missing_values(df):\n",
    "    missing_values_count = df.isnull().sum()\n",
    "    missing_values_pers = 100 * missing_values_count / len(df)\n",
    "    \n",
    "    # Make a table with the results\n",
    "    mis_val_table = pd.concat([missing_values_count, missing_values_pers], axis=1)\n",
    "        \n",
    "    # Rename the columns\n",
    "    mis_val_table_ren_columns = mis_val_table.rename(columns = {0 : 'Missing Values', 1 : '% of Total Values'})\n",
    "    \n",
    "    mis_val_table_ren_columns = mis_val_table_ren_columns[\n",
    "            mis_val_table_ren_columns.iloc[:,1] != 0].sort_values(\n",
    "        '% of Total Values', ascending=False).round(1)\n",
    "    \n",
    "    print (\"Your selected dataframe has \" + str(df.shape[1]) + \" columns.\\n\"      \n",
    "            \"There are \" + str(mis_val_table_ren_columns.shape[0]) +\n",
    "              \" columns that have missing values.\")\n",
    "    \n",
    "    return mis_val_table_ren_columns"
   ]
  },
  {
   "cell_type": "code",
   "execution_count": 3,
   "metadata": {},
   "outputs": [
    {
     "name": "stderr",
     "output_type": "stream",
     "text": [
      "c:\\python36-64\\lib\\site-packages\\pandas\\core\\groupby.py:4291: FutureWarning: using a dict with renaming is deprecated and will be removed in a future version\n",
      "  return super(DataFrameGroupBy, self).aggregate(arg, *args, **kwargs)\n",
      "c:\\python36-64\\lib\\site-packages\\IPython\\core\\interactiveshell.py:2785: DtypeWarning: Columns (7) have mixed types. Specify dtype option on import or set low_memory=False.\n",
      "  interactivity=interactivity, compiler=compiler, result=result)\n"
     ]
    }
   ],
   "source": [
    "nrows = 200000\n",
    "CourtCase = pd.read_csv(\"CourtCase.csv\")\n",
    "CourtCase_test = pd.read_csv(\"CourtCase_test.csv\")\n",
    "CourtCase = CourtCase.sample(frac=1)\n",
    "\n",
    "CourtCaseParty = pd.read_csv(\"CourtCaseParty.csv\")\n",
    "CourtCaseParty[\"IsNPPA\"] = CourtCaseParty.PartyID.apply(lambda x: 1 if x == -2 else 0)\n",
    "\n",
    "ccp_aggregations = {}\n",
    "ccp_aggregations[\"CourtCasePartyID\"] = {\"ccp_count\" : \"count\"}\n",
    "ccp_aggregations[\"IsNPPA\"] = {\"is_nppa_present\" : \"max\"}\n",
    "\n",
    "CourtCaseParty = CourtCaseParty.groupby(\"CourtCaseID\").agg({**ccp_aggregations})\n",
    "CourtCaseParty.columns = CourtCaseParty.columns.droplevel(level=0)\n",
    "CourtCase = pd.merge(CourtCase, CourtCaseParty, how='left', left_on=\"CourtCaseID\", right_index=True)\n",
    "CourtCase_test = pd.merge(CourtCase_test, CourtCaseParty, how='left', left_on=\"CourtCaseID\", right_index=True)\n",
    "\n",
    "CourtCaseSchedule = pd.read_csv(\"CourtCaseSchedule.csv\")\n",
    "\n",
    "ccsh_aggregations = {\"HearingDate\" : {\"min_hearingdate\" : \"min\"}}\n",
    "CourtCaseSchedule = CourtCaseSchedule.groupby(\"CourtCaseID\").agg({**ccsh_aggregations})\n",
    "CourtCaseSchedule.columns = CourtCaseSchedule.columns.droplevel(level=0)\n",
    "CourtCase = pd.merge(CourtCase, CourtCaseSchedule, how='left', left_on=\"CourtCaseID\", right_index=True)\n",
    "CourtCase_test = pd.merge(CourtCase_test, CourtCaseSchedule, how='left', left_on=\"CourtCaseID\", right_index=True)\n",
    "\n",
    "CourtCaseCrimes = pd.read_csv(\"CourtCaseCrimes.csv\")\n",
    "CourtCaseCrimes = CourtCaseCrimes.groupby(\"CourtCaseID\").count()\n",
    "CourtCase = pd.merge(CourtCase, CourtCaseCrimes, how='left', left_on=\"CourtCaseID\", right_index=True)\n",
    "CourtCase_test = pd.merge(CourtCase_test, CourtCaseCrimes, how='left', left_on=\"CourtCaseID\", right_index=True)\n",
    "\n",
    "CourtCasePartyLegalRepresentative = pd.read_csv(\"CourtCasePartyLegalRepresentative.csv\")\n",
    "CourtCase = pd.merge(CourtCase, CourtCasePartyLegalRepresentative, how='left', left_on=\"CourtCaseID\", right_on=\"CourtCaseID\")\n",
    "CourtCase_test = pd.merge(CourtCase_test, CourtCasePartyLegalRepresentative, how='left', left_on=\"CourtCaseID\", right_on=\"CourtCaseID\")\n",
    "\n",
    "# CourtCaseAddmisibility = pd.read_csv(\"CourtCaseAddmisibility.csv\")\n",
    "# ccai_aggregations = {\"AdmissibilityItemID\" : {\"cnt_admitem\" : \"count\"}}\n",
    "# CourtCaseAddmisibility = CourtCaseAddmisibility.groupby(\"CourtCaseID\").agg({**ccai_aggregations})\n",
    "# CourtCaseAddmisibility.columns = CourtCaseAddmisibility.columns.droplevel(level=0)\n",
    "# CourtCase = pd.merge(CourtCase, CourtCaseAddmisibility, how='left', left_on=\"CourtCaseID\", right_index=True)\n",
    "# CourtCase_test = pd.merge(CourtCase_test, CourtCaseAddmisibility, how='left', left_on=\"CourtCaseID\", right_index=True)\n",
    "\n",
    "# CourtCaseIssues = pd.read_csv(\"CourtCaseIssues.csv\")\n",
    "# ccissues_aggregations = {\"CourtCaseIssuesToBeAnalysedID\" : {\"cnt_issues\" : \"count\"}}\n",
    "# CourtCaseIssues = CourtCaseIssues.groupby(\"CourtCaseID\").agg({**ccissues_aggregations})\n",
    "# CourtCaseIssues.columns = CourtCaseIssues.columns.droplevel(level=0)\n",
    "# CourtCase = pd.merge(CourtCase, CourtCaseIssues, how='left', left_on=\"CourtCaseID\", right_index=True)\n",
    "# CourtCase_test = pd.merge(CourtCase_test, CourtCaseIssues, how='left', left_on=\"CourtCaseID\", right_index=True)\n",
    "\n",
    "CourtCaseDocument = pd.read_csv(\"CourtCaseDocument.csv\")\n",
    "CourtCaseDocument = pd.get_dummies(CourtCaseDocument, columns=[\"DocumentTypeID\"])\n",
    "cc_doc_dum_agg = {}\n",
    "dum_columns = [x for x in CourtCaseDocument.columns if x.startswith(\"DocumentTypeID\")]\n",
    "for col in dum_columns:\n",
    "    cc_doc_dum_agg[col] = {col:\"sum\"}\n",
    "ccdoc_aggregations = {\"Size\" : {\"total_size\" : \"sum\", \"avg_size\" : \"mean\"}}\n",
    "CourtCaseDocument = CourtCaseDocument.groupby(\"CourtCaseID\").agg({**ccdoc_aggregations, **cc_doc_dum_agg})\n",
    "CourtCaseDocument.columns = CourtCaseDocument.columns.droplevel(level=0)\n",
    "CourtCase = pd.merge(CourtCase, CourtCaseDocument, how='left', left_on=\"CourtCaseID\", right_index=True)\n",
    "CourtCase_test = pd.merge(CourtCase_test, CourtCaseDocument, how='left', left_on=\"CourtCaseID\", right_index=True)\n",
    "\n",
    "\n",
    "\n",
    "[CourtCase[x].fillna(0, inplace=True) for x in CourtCase.columns if x.startswith(\"ArticleID\")];\n",
    "CourtCase.CountOfLegalRepresentative.fillna(0, inplace=True)\n",
    "CourtCase.ccp_count.fillna(0, inplace=True)\n",
    "# CourtCase.cnt_admitem.fillna(0, inplace=True)\n",
    "# CourtCase.cnt_issues.fillna(0, inplace=True)\n",
    "CourtCase.is_nppa_present.fillna(0, inplace=True)\n",
    "\n",
    "[CourtCase_test[x].fillna(0, inplace=True) for x in CourtCase_test.columns if x.startswith(\"ArticleID\")];\n",
    "CourtCase_test.CountOfLegalRepresentative.fillna(0, inplace=True)\n",
    "CourtCase_test.ccp_count.fillna(0, inplace=True)\n",
    "# CourtCase_test.cnt_admitem.fillna(0, inplace=True)\n",
    "# CourtCase_test.cnt_issues.fillna(0, inplace=True)\n",
    "CourtCase_test.is_nppa_present.fillna(0, inplace=True)"
   ]
  },
  {
   "cell_type": "code",
   "execution_count": 4,
   "metadata": {},
   "outputs": [
    {
     "name": "stdout",
     "output_type": "stream",
     "text": [
      "(2359, 114)\n",
      "(15832, 114)\n"
     ]
    }
   ],
   "source": [
    "print(CourtCase_test.shape)\n",
    "print(CourtCase.shape)"
   ]
  },
  {
   "cell_type": "code",
   "execution_count": 5,
   "metadata": {},
   "outputs": [],
   "source": [
    "CourtCase[\"HasRecieptDocument\"] = CourtCase.ReceiptDocumentID.fillna(0).apply(lambda x: 1 if x > 0 else 0)\n",
    "CourtCase[\"HasProsecutionCase\"] = CourtCase.ProsecutionCaseID.fillna(0).apply(lambda x: 1 if x > 0 else 0)\n",
    "# CourtCase[\"IsAppealedcase\"] = CourtCase.AppealedCourtCaseID.fillna(0).apply(lambda x: 1 if x > 0 else 0)\n",
    "CourtCase[\"ColorID\"] = CourtCase.ColorID.fillna(-1)\n",
    "CourtCase[\"InstanceLevelID\"] = CourtCase.InstanceLevelID.fillna(-1)\n",
    "CourtCase[\"SubCategoryID\"] = CourtCase.SubCategoryID.fillna(-1)\n",
    "CourtCase[\"CasePriorityID\"] = CourtCase.CasePriorityID.fillna(-1)\n",
    "CourtCase[\"IsDetentionCase\"] = CourtCase.IsDetentionCase.fillna(0)\n",
    "CourtCase[\"IsPublicCase\"] = CourtCase.IsPublicCase.fillna(0)\n",
    "CourtCase[\"CommittedByMinor\"] = CourtCase.CommittedByMinor.fillna(0)\n",
    "CourtCase[\"GenderBasedViolence\"] = CourtCase.GenderBasedViolence.fillna(0)\n",
    "CourtCase[\"InitiatedFromAbunzi\"] = CourtCase.InitiatedFromAbunzi.fillna(0)\n",
    "CourtCase[\"SolvedFromAbunzi\"] = CourtCase.SolvedFromAbunzi.fillna(0)\n",
    "CourtCase[\"HasDetails\"] = CourtCase.HasDetails.fillna(0)\n",
    "CourtCase[\"IsExempted\"] = CourtCase.IsExempted.fillna(0)\n",
    "CourtCase[\"AttachedDate\"] = CourtCase.AttachedDate.fillna(0)\n",
    "CourtCase.drop(columns=[\"HasPassedCaseNumberAllocated\", \"CaseCode\", \"MinorVersion\", \"MajorVersion\", \"CourtID\", \"CourtCaseID\"\n",
    "                   , \"ReceiptDocumentID\",  \"ProsecutionCaseID\", \"WFActionID\"\n",
    "                   , \"NotRegisteredCaseCode\", \"WFStateID\", \"UpdatedUserID\", \"OwnerUserID\", \"PublicOwnerUserId\", 'CreatedUserID'\n",
    "                   ,'AppealedCourtCaseID', \"CountOfJudgmentPages\"\n",
    "                  ], inplace=True)\n",
    "\n",
    "CourtCase_test[\"HasRecieptDocument\"] = CourtCase_test.ReceiptDocumentID.fillna(0).apply(lambda x: 1 if x > 0 else 0)\n",
    "CourtCase_test[\"HasProsecutionCase\"] = CourtCase_test.ProsecutionCaseID.fillna(0).apply(lambda x: 1 if x > 0 else 0)\n",
    "# CourtCase_test[\"IsAppealedcase\"] = CourtCase_test.AppealedCourtCaseID.fillna(0).apply(lambda x: 1 if x > 0 else 0)\n",
    "CourtCase_test[\"ColorID\"] = CourtCase_test.ColorID.fillna(-1)\n",
    "CourtCase_test[\"InstanceLevelID\"] = CourtCase_test.InstanceLevelID.fillna(-1)\n",
    "CourtCase_test[\"SubCategoryID\"] = CourtCase_test.SubCategoryID.fillna(-1)\n",
    "CourtCase_test[\"CasePriorityID\"] = CourtCase_test.CasePriorityID.fillna(-1)\n",
    "CourtCase_test[\"IsDetentionCase\"] = CourtCase_test.IsDetentionCase.fillna(0)\n",
    "CourtCase_test[\"IsPublicCase\"] = CourtCase_test.IsPublicCase.fillna(0)\n",
    "CourtCase_test[\"CommittedByMinor\"] = CourtCase_test.CommittedByMinor.fillna(0)\n",
    "CourtCase_test[\"GenderBasedViolence\"] = CourtCase_test.GenderBasedViolence.fillna(0)\n",
    "CourtCase_test[\"InitiatedFromAbunzi\"] = CourtCase_test.InitiatedFromAbunzi.fillna(0)\n",
    "CourtCase_test[\"SolvedFromAbunzi\"] = CourtCase_test.SolvedFromAbunzi.fillna(0)\n",
    "CourtCase_test[\"HasDetails\"] = CourtCase_test.HasDetails.fillna(0)\n",
    "CourtCase_test[\"IsExempted\"] = CourtCase_test.IsExempted.fillna(0)\n",
    "CourtCase_test[\"AttachedDate\"] = CourtCase_test.AttachedDate.fillna(0)\n",
    "CourtCase_test.drop(columns=[\"HasPassedCaseNumberAllocated\", \"CaseCode\", \"MinorVersion\", \"MajorVersion\", \"CourtID\", \"CourtCaseID\"\n",
    "                   , \"ReceiptDocumentID\",  \"ProsecutionCaseID\", \"WFActionID\"\n",
    "                   , \"NotRegisteredCaseCode\", \"WFStateID\", \"UpdatedUserID\", \"OwnerUserID\", \"PublicOwnerUserId\", 'CreatedUserID'\n",
    "                   ,'AppealedCourtCaseID', \"CountOfJudgmentPages\"\n",
    "                  ], inplace=True)"
   ]
  },
  {
   "cell_type": "code",
   "execution_count": 6,
   "metadata": {},
   "outputs": [
    {
     "name": "stdout",
     "output_type": "stream",
     "text": [
      "(2359, 99)\n",
      "(15832, 99)\n"
     ]
    }
   ],
   "source": [
    "print(CourtCase_test.shape)\n",
    "print(CourtCase.shape)"
   ]
  },
  {
   "cell_type": "code",
   "execution_count": 7,
   "metadata": {},
   "outputs": [
    {
     "name": "stdout",
     "output_type": "stream",
     "text": [
      "Your selected dataframe has 99 columns.\n",
      "There are 69 columns that have missing values.\n",
      "(2345, 90)\n",
      "(15762, 90)\n"
     ]
    }
   ],
   "source": [
    "A = calculate_missing_values(CourtCase)\n",
    "drop_col = A[A[\"% of Total Values\"] > 90].index\n",
    "CourtCase = CourtCase.drop(columns=drop_col)\n",
    "CourtCase.dropna(inplace=True)\n",
    "CourtCase_test = CourtCase_test.drop(columns=drop_col)\n",
    "CourtCase_test.dropna(inplace=True)\n",
    "print(CourtCase_test.shape)\n",
    "print(CourtCase.shape)"
   ]
  },
  {
   "cell_type": "code",
   "execution_count": 8,
   "metadata": {},
   "outputs": [
    {
     "name": "stdout",
     "output_type": "stream",
     "text": [
      "Your selected dataframe has 90 columns.\n",
      "There are 0 columns that have missing values.\n",
      "Your selected dataframe has 90 columns.\n",
      "There are 0 columns that have missing values.\n"
     ]
    },
    {
     "data": {
      "text/html": [
       "<div>\n",
       "<style scoped>\n",
       "    .dataframe tbody tr th:only-of-type {\n",
       "        vertical-align: middle;\n",
       "    }\n",
       "\n",
       "    .dataframe tbody tr th {\n",
       "        vertical-align: top;\n",
       "    }\n",
       "\n",
       "    .dataframe thead th {\n",
       "        text-align: right;\n",
       "    }\n",
       "</style>\n",
       "<table border=\"1\" class=\"dataframe\">\n",
       "  <thead>\n",
       "    <tr style=\"text-align: right;\">\n",
       "      <th></th>\n",
       "      <th>Missing Values</th>\n",
       "      <th>% of Total Values</th>\n",
       "    </tr>\n",
       "  </thead>\n",
       "  <tbody>\n",
       "  </tbody>\n",
       "</table>\n",
       "</div>"
      ],
      "text/plain": [
       "Empty DataFrame\n",
       "Columns: [Missing Values, % of Total Values]\n",
       "Index: []"
      ]
     },
     "execution_count": 8,
     "metadata": {},
     "output_type": "execute_result"
    }
   ],
   "source": [
    "calculate_missing_values(CourtCase)\n",
    "calculate_missing_values(CourtCase_test)"
   ]
  },
  {
   "cell_type": "code",
   "execution_count": 9,
   "metadata": {},
   "outputs": [
    {
     "name": "stdout",
     "output_type": "stream",
     "text": [
      "(15762, 89) (15762,)\n",
      "(2345, 89) (2345,)\n"
     ]
    }
   ],
   "source": [
    "X = CourtCase.drop(columns=[\"DecisionDuration\"])\n",
    "Y = CourtCase[\"DecisionDuration\"]\n",
    "\n",
    "# X_test = X[:100]\n",
    "# Y_test = Y[:100]\n",
    "# X = X[100:]\n",
    "# Y = Y[100:]\n",
    "X_test = CourtCase_test.drop(columns=[\"DecisionDuration\"])\n",
    "Y_test = CourtCase_test[\"DecisionDuration\"]\n",
    "print(X.shape, Y.shape)\n",
    "print(X_test.shape, Y_test.shape)"
   ]
  },
  {
   "cell_type": "code",
   "execution_count": 10,
   "metadata": {},
   "outputs": [
    {
     "data": {
      "text/plain": [
       "0    144\n",
       "1    109\n",
       "2     81\n",
       "3     56\n",
       "4     59\n",
       "Name: DecisionDuration, dtype: int64"
      ]
     },
     "execution_count": 10,
     "metadata": {},
     "output_type": "execute_result"
    }
   ],
   "source": [
    "Y_test.head()"
   ]
  },
  {
   "cell_type": "code",
   "execution_count": 180,
   "metadata": {},
   "outputs": [
    {
     "name": "stdout",
     "output_type": "stream",
     "text": [
      "Fitting 5 folds for each of 20 candidates, totalling 100 fits\n",
      "[CV] n_estimators=50, min_samples_split=10, min_samples_leaf=4, max_features=auto, max_depth=3, bootstrap=True \n",
      "[CV]  n_estimators=50, min_samples_split=10, min_samples_leaf=4, max_features=auto, max_depth=3, bootstrap=True, score=0.37312338373259646, total=   1.3s\n",
      "[Parallel(n_jobs=1)]: Done   1 out of   1 | elapsed:    1.3s remaining:    0.0s\n",
      "[CV] n_estimators=50, min_samples_split=10, min_samples_leaf=4, max_features=auto, max_depth=3, bootstrap=True \n",
      "[CV]  n_estimators=50, min_samples_split=10, min_samples_leaf=4, max_features=auto, max_depth=3, bootstrap=True, score=0.38260857533645987, total=   1.3s\n",
      "[Parallel(n_jobs=1)]: Done   2 out of   2 | elapsed:    2.8s remaining:    0.0s\n",
      "[CV] n_estimators=50, min_samples_split=10, min_samples_leaf=4, max_features=auto, max_depth=3, bootstrap=True \n",
      "[CV]  n_estimators=50, min_samples_split=10, min_samples_leaf=4, max_features=auto, max_depth=3, bootstrap=True, score=0.3771377800737882, total=   1.3s\n",
      "[Parallel(n_jobs=1)]: Done   3 out of   3 | elapsed:    4.2s remaining:    0.0s\n",
      "[CV] n_estimators=50, min_samples_split=10, min_samples_leaf=4, max_features=auto, max_depth=3, bootstrap=True \n",
      "[CV]  n_estimators=50, min_samples_split=10, min_samples_leaf=4, max_features=auto, max_depth=3, bootstrap=True, score=0.38961939338200424, total=   1.3s\n",
      "[Parallel(n_jobs=1)]: Done   4 out of   4 | elapsed:    5.7s remaining:    0.0s\n",
      "[CV] n_estimators=50, min_samples_split=10, min_samples_leaf=4, max_features=auto, max_depth=3, bootstrap=True \n",
      "[CV]  n_estimators=50, min_samples_split=10, min_samples_leaf=4, max_features=auto, max_depth=3, bootstrap=True, score=0.41092336565394894, total=   1.3s\n",
      "[Parallel(n_jobs=1)]: Done   5 out of   5 | elapsed:    7.1s remaining:    0.0s\n",
      "[CV] n_estimators=100, min_samples_split=20, min_samples_leaf=4, max_features=auto, max_depth=3, bootstrap=False \n"
     ]
    },
    {
     "ename": "KeyboardInterrupt",
     "evalue": "",
     "output_type": "error",
     "traceback": [
      "\u001b[1;31m---------------------------------------------------------------------------\u001b[0m",
      "\u001b[1;31mKeyboardInterrupt\u001b[0m                         Traceback (most recent call last)",
      "\u001b[1;32m<ipython-input-180-f02da9efa3d4>\u001b[0m in \u001b[0;36m<module>\u001b[1;34m()\u001b[0m\n\u001b[0;32m     33\u001b[0m \u001b[0mrf_random\u001b[0m \u001b[1;33m=\u001b[0m \u001b[0mRandomizedSearchCV\u001b[0m\u001b[1;33m(\u001b[0m\u001b[0mestimator\u001b[0m \u001b[1;33m=\u001b[0m \u001b[0mrf\u001b[0m\u001b[1;33m,\u001b[0m \u001b[0mparam_distributions\u001b[0m \u001b[1;33m=\u001b[0m \u001b[0mrandom_grid\u001b[0m\u001b[1;33m,\u001b[0m \u001b[0mn_iter\u001b[0m \u001b[1;33m=\u001b[0m \u001b[1;36m20\u001b[0m\u001b[1;33m,\u001b[0m \u001b[0mcv\u001b[0m \u001b[1;33m=\u001b[0m \u001b[1;36m5\u001b[0m\u001b[1;33m,\u001b[0m \u001b[0mverbose\u001b[0m\u001b[1;33m=\u001b[0m\u001b[1;36m100\u001b[0m\u001b[1;33m,\u001b[0m \u001b[0mrandom_state\u001b[0m\u001b[1;33m=\u001b[0m\u001b[1;36m42\u001b[0m\u001b[1;33m,\u001b[0m \u001b[0mscoring\u001b[0m\u001b[1;33m=\u001b[0m\u001b[1;34m'r2'\u001b[0m\u001b[1;33m)\u001b[0m\u001b[1;33m\u001b[0m\u001b[0m\n\u001b[0;32m     34\u001b[0m \u001b[1;31m# Fit the random search model\u001b[0m\u001b[1;33m\u001b[0m\u001b[1;33m\u001b[0m\u001b[0m\n\u001b[1;32m---> 35\u001b[1;33m \u001b[0mrf_random\u001b[0m\u001b[1;33m.\u001b[0m\u001b[0mfit\u001b[0m\u001b[1;33m(\u001b[0m\u001b[0mX\u001b[0m\u001b[1;33m,\u001b[0m \u001b[0mY\u001b[0m\u001b[1;33m)\u001b[0m\u001b[1;33m\u001b[0m\u001b[0m\n\u001b[0m",
      "\u001b[1;32mc:\\python36-64\\lib\\site-packages\\sklearn\\model_selection\\_search.py\u001b[0m in \u001b[0;36mfit\u001b[1;34m(self, X, y, groups, **fit_params)\u001b[0m\n\u001b[0;32m    637\u001b[0m                                   error_score=self.error_score)\n\u001b[0;32m    638\u001b[0m           for parameters, (train, test) in product(candidate_params,\n\u001b[1;32m--> 639\u001b[1;33m                                                    cv.split(X, y, groups)))\n\u001b[0m\u001b[0;32m    640\u001b[0m \u001b[1;33m\u001b[0m\u001b[0m\n\u001b[0;32m    641\u001b[0m         \u001b[1;31m# if one choose to see train score, \"out\" will contain train score info\u001b[0m\u001b[1;33m\u001b[0m\u001b[1;33m\u001b[0m\u001b[0m\n",
      "\u001b[1;32mc:\\python36-64\\lib\\site-packages\\sklearn\\externals\\joblib\\parallel.py\u001b[0m in \u001b[0;36m__call__\u001b[1;34m(self, iterable)\u001b[0m\n\u001b[0;32m    777\u001b[0m             \u001b[1;31m# was dispatched. In particular this covers the edge\u001b[0m\u001b[1;33m\u001b[0m\u001b[1;33m\u001b[0m\u001b[0m\n\u001b[0;32m    778\u001b[0m             \u001b[1;31m# case of Parallel used with an exhausted iterator.\u001b[0m\u001b[1;33m\u001b[0m\u001b[1;33m\u001b[0m\u001b[0m\n\u001b[1;32m--> 779\u001b[1;33m             \u001b[1;32mwhile\u001b[0m \u001b[0mself\u001b[0m\u001b[1;33m.\u001b[0m\u001b[0mdispatch_one_batch\u001b[0m\u001b[1;33m(\u001b[0m\u001b[0miterator\u001b[0m\u001b[1;33m)\u001b[0m\u001b[1;33m:\u001b[0m\u001b[1;33m\u001b[0m\u001b[0m\n\u001b[0m\u001b[0;32m    780\u001b[0m                 \u001b[0mself\u001b[0m\u001b[1;33m.\u001b[0m\u001b[0m_iterating\u001b[0m \u001b[1;33m=\u001b[0m \u001b[1;32mTrue\u001b[0m\u001b[1;33m\u001b[0m\u001b[0m\n\u001b[0;32m    781\u001b[0m             \u001b[1;32melse\u001b[0m\u001b[1;33m:\u001b[0m\u001b[1;33m\u001b[0m\u001b[0m\n",
      "\u001b[1;32mc:\\python36-64\\lib\\site-packages\\sklearn\\externals\\joblib\\parallel.py\u001b[0m in \u001b[0;36mdispatch_one_batch\u001b[1;34m(self, iterator)\u001b[0m\n\u001b[0;32m    623\u001b[0m                 \u001b[1;32mreturn\u001b[0m \u001b[1;32mFalse\u001b[0m\u001b[1;33m\u001b[0m\u001b[0m\n\u001b[0;32m    624\u001b[0m             \u001b[1;32melse\u001b[0m\u001b[1;33m:\u001b[0m\u001b[1;33m\u001b[0m\u001b[0m\n\u001b[1;32m--> 625\u001b[1;33m                 \u001b[0mself\u001b[0m\u001b[1;33m.\u001b[0m\u001b[0m_dispatch\u001b[0m\u001b[1;33m(\u001b[0m\u001b[0mtasks\u001b[0m\u001b[1;33m)\u001b[0m\u001b[1;33m\u001b[0m\u001b[0m\n\u001b[0m\u001b[0;32m    626\u001b[0m                 \u001b[1;32mreturn\u001b[0m \u001b[1;32mTrue\u001b[0m\u001b[1;33m\u001b[0m\u001b[0m\n\u001b[0;32m    627\u001b[0m \u001b[1;33m\u001b[0m\u001b[0m\n",
      "\u001b[1;32mc:\\python36-64\\lib\\site-packages\\sklearn\\externals\\joblib\\parallel.py\u001b[0m in \u001b[0;36m_dispatch\u001b[1;34m(self, batch)\u001b[0m\n\u001b[0;32m    586\u001b[0m         \u001b[0mdispatch_timestamp\u001b[0m \u001b[1;33m=\u001b[0m \u001b[0mtime\u001b[0m\u001b[1;33m.\u001b[0m\u001b[0mtime\u001b[0m\u001b[1;33m(\u001b[0m\u001b[1;33m)\u001b[0m\u001b[1;33m\u001b[0m\u001b[0m\n\u001b[0;32m    587\u001b[0m         \u001b[0mcb\u001b[0m \u001b[1;33m=\u001b[0m \u001b[0mBatchCompletionCallBack\u001b[0m\u001b[1;33m(\u001b[0m\u001b[0mdispatch_timestamp\u001b[0m\u001b[1;33m,\u001b[0m \u001b[0mlen\u001b[0m\u001b[1;33m(\u001b[0m\u001b[0mbatch\u001b[0m\u001b[1;33m)\u001b[0m\u001b[1;33m,\u001b[0m \u001b[0mself\u001b[0m\u001b[1;33m)\u001b[0m\u001b[1;33m\u001b[0m\u001b[0m\n\u001b[1;32m--> 588\u001b[1;33m         \u001b[0mjob\u001b[0m \u001b[1;33m=\u001b[0m \u001b[0mself\u001b[0m\u001b[1;33m.\u001b[0m\u001b[0m_backend\u001b[0m\u001b[1;33m.\u001b[0m\u001b[0mapply_async\u001b[0m\u001b[1;33m(\u001b[0m\u001b[0mbatch\u001b[0m\u001b[1;33m,\u001b[0m \u001b[0mcallback\u001b[0m\u001b[1;33m=\u001b[0m\u001b[0mcb\u001b[0m\u001b[1;33m)\u001b[0m\u001b[1;33m\u001b[0m\u001b[0m\n\u001b[0m\u001b[0;32m    589\u001b[0m         \u001b[0mself\u001b[0m\u001b[1;33m.\u001b[0m\u001b[0m_jobs\u001b[0m\u001b[1;33m.\u001b[0m\u001b[0mappend\u001b[0m\u001b[1;33m(\u001b[0m\u001b[0mjob\u001b[0m\u001b[1;33m)\u001b[0m\u001b[1;33m\u001b[0m\u001b[0m\n\u001b[0;32m    590\u001b[0m \u001b[1;33m\u001b[0m\u001b[0m\n",
      "\u001b[1;32mc:\\python36-64\\lib\\site-packages\\sklearn\\externals\\joblib\\_parallel_backends.py\u001b[0m in \u001b[0;36mapply_async\u001b[1;34m(self, func, callback)\u001b[0m\n\u001b[0;32m    109\u001b[0m     \u001b[1;32mdef\u001b[0m \u001b[0mapply_async\u001b[0m\u001b[1;33m(\u001b[0m\u001b[0mself\u001b[0m\u001b[1;33m,\u001b[0m \u001b[0mfunc\u001b[0m\u001b[1;33m,\u001b[0m \u001b[0mcallback\u001b[0m\u001b[1;33m=\u001b[0m\u001b[1;32mNone\u001b[0m\u001b[1;33m)\u001b[0m\u001b[1;33m:\u001b[0m\u001b[1;33m\u001b[0m\u001b[0m\n\u001b[0;32m    110\u001b[0m         \u001b[1;34m\"\"\"Schedule a func to be run\"\"\"\u001b[0m\u001b[1;33m\u001b[0m\u001b[0m\n\u001b[1;32m--> 111\u001b[1;33m         \u001b[0mresult\u001b[0m \u001b[1;33m=\u001b[0m \u001b[0mImmediateResult\u001b[0m\u001b[1;33m(\u001b[0m\u001b[0mfunc\u001b[0m\u001b[1;33m)\u001b[0m\u001b[1;33m\u001b[0m\u001b[0m\n\u001b[0m\u001b[0;32m    112\u001b[0m         \u001b[1;32mif\u001b[0m \u001b[0mcallback\u001b[0m\u001b[1;33m:\u001b[0m\u001b[1;33m\u001b[0m\u001b[0m\n\u001b[0;32m    113\u001b[0m             \u001b[0mcallback\u001b[0m\u001b[1;33m(\u001b[0m\u001b[0mresult\u001b[0m\u001b[1;33m)\u001b[0m\u001b[1;33m\u001b[0m\u001b[0m\n",
      "\u001b[1;32mc:\\python36-64\\lib\\site-packages\\sklearn\\externals\\joblib\\_parallel_backends.py\u001b[0m in \u001b[0;36m__init__\u001b[1;34m(self, batch)\u001b[0m\n\u001b[0;32m    330\u001b[0m         \u001b[1;31m# Don't delay the application, to avoid keeping the input\u001b[0m\u001b[1;33m\u001b[0m\u001b[1;33m\u001b[0m\u001b[0m\n\u001b[0;32m    331\u001b[0m         \u001b[1;31m# arguments in memory\u001b[0m\u001b[1;33m\u001b[0m\u001b[1;33m\u001b[0m\u001b[0m\n\u001b[1;32m--> 332\u001b[1;33m         \u001b[0mself\u001b[0m\u001b[1;33m.\u001b[0m\u001b[0mresults\u001b[0m \u001b[1;33m=\u001b[0m \u001b[0mbatch\u001b[0m\u001b[1;33m(\u001b[0m\u001b[1;33m)\u001b[0m\u001b[1;33m\u001b[0m\u001b[0m\n\u001b[0m\u001b[0;32m    333\u001b[0m \u001b[1;33m\u001b[0m\u001b[0m\n\u001b[0;32m    334\u001b[0m     \u001b[1;32mdef\u001b[0m \u001b[0mget\u001b[0m\u001b[1;33m(\u001b[0m\u001b[0mself\u001b[0m\u001b[1;33m)\u001b[0m\u001b[1;33m:\u001b[0m\u001b[1;33m\u001b[0m\u001b[0m\n",
      "\u001b[1;32mc:\\python36-64\\lib\\site-packages\\sklearn\\externals\\joblib\\parallel.py\u001b[0m in \u001b[0;36m__call__\u001b[1;34m(self)\u001b[0m\n\u001b[0;32m    129\u001b[0m \u001b[1;33m\u001b[0m\u001b[0m\n\u001b[0;32m    130\u001b[0m     \u001b[1;32mdef\u001b[0m \u001b[0m__call__\u001b[0m\u001b[1;33m(\u001b[0m\u001b[0mself\u001b[0m\u001b[1;33m)\u001b[0m\u001b[1;33m:\u001b[0m\u001b[1;33m\u001b[0m\u001b[0m\n\u001b[1;32m--> 131\u001b[1;33m         \u001b[1;32mreturn\u001b[0m \u001b[1;33m[\u001b[0m\u001b[0mfunc\u001b[0m\u001b[1;33m(\u001b[0m\u001b[1;33m*\u001b[0m\u001b[0margs\u001b[0m\u001b[1;33m,\u001b[0m \u001b[1;33m**\u001b[0m\u001b[0mkwargs\u001b[0m\u001b[1;33m)\u001b[0m \u001b[1;32mfor\u001b[0m \u001b[0mfunc\u001b[0m\u001b[1;33m,\u001b[0m \u001b[0margs\u001b[0m\u001b[1;33m,\u001b[0m \u001b[0mkwargs\u001b[0m \u001b[1;32min\u001b[0m \u001b[0mself\u001b[0m\u001b[1;33m.\u001b[0m\u001b[0mitems\u001b[0m\u001b[1;33m]\u001b[0m\u001b[1;33m\u001b[0m\u001b[0m\n\u001b[0m\u001b[0;32m    132\u001b[0m \u001b[1;33m\u001b[0m\u001b[0m\n\u001b[0;32m    133\u001b[0m     \u001b[1;32mdef\u001b[0m \u001b[0m__len__\u001b[0m\u001b[1;33m(\u001b[0m\u001b[0mself\u001b[0m\u001b[1;33m)\u001b[0m\u001b[1;33m:\u001b[0m\u001b[1;33m\u001b[0m\u001b[0m\n",
      "\u001b[1;32mc:\\python36-64\\lib\\site-packages\\sklearn\\externals\\joblib\\parallel.py\u001b[0m in \u001b[0;36m<listcomp>\u001b[1;34m(.0)\u001b[0m\n\u001b[0;32m    129\u001b[0m \u001b[1;33m\u001b[0m\u001b[0m\n\u001b[0;32m    130\u001b[0m     \u001b[1;32mdef\u001b[0m \u001b[0m__call__\u001b[0m\u001b[1;33m(\u001b[0m\u001b[0mself\u001b[0m\u001b[1;33m)\u001b[0m\u001b[1;33m:\u001b[0m\u001b[1;33m\u001b[0m\u001b[0m\n\u001b[1;32m--> 131\u001b[1;33m         \u001b[1;32mreturn\u001b[0m \u001b[1;33m[\u001b[0m\u001b[0mfunc\u001b[0m\u001b[1;33m(\u001b[0m\u001b[1;33m*\u001b[0m\u001b[0margs\u001b[0m\u001b[1;33m,\u001b[0m \u001b[1;33m**\u001b[0m\u001b[0mkwargs\u001b[0m\u001b[1;33m)\u001b[0m \u001b[1;32mfor\u001b[0m \u001b[0mfunc\u001b[0m\u001b[1;33m,\u001b[0m \u001b[0margs\u001b[0m\u001b[1;33m,\u001b[0m \u001b[0mkwargs\u001b[0m \u001b[1;32min\u001b[0m \u001b[0mself\u001b[0m\u001b[1;33m.\u001b[0m\u001b[0mitems\u001b[0m\u001b[1;33m]\u001b[0m\u001b[1;33m\u001b[0m\u001b[0m\n\u001b[0m\u001b[0;32m    132\u001b[0m \u001b[1;33m\u001b[0m\u001b[0m\n\u001b[0;32m    133\u001b[0m     \u001b[1;32mdef\u001b[0m \u001b[0m__len__\u001b[0m\u001b[1;33m(\u001b[0m\u001b[0mself\u001b[0m\u001b[1;33m)\u001b[0m\u001b[1;33m:\u001b[0m\u001b[1;33m\u001b[0m\u001b[0m\n",
      "\u001b[1;32mc:\\python36-64\\lib\\site-packages\\sklearn\\model_selection\\_validation.py\u001b[0m in \u001b[0;36m_fit_and_score\u001b[1;34m(estimator, X, y, scorer, train, test, verbose, parameters, fit_params, return_train_score, return_parameters, return_n_test_samples, return_times, error_score)\u001b[0m\n\u001b[0;32m    456\u001b[0m             \u001b[0mestimator\u001b[0m\u001b[1;33m.\u001b[0m\u001b[0mfit\u001b[0m\u001b[1;33m(\u001b[0m\u001b[0mX_train\u001b[0m\u001b[1;33m,\u001b[0m \u001b[1;33m**\u001b[0m\u001b[0mfit_params\u001b[0m\u001b[1;33m)\u001b[0m\u001b[1;33m\u001b[0m\u001b[0m\n\u001b[0;32m    457\u001b[0m         \u001b[1;32melse\u001b[0m\u001b[1;33m:\u001b[0m\u001b[1;33m\u001b[0m\u001b[0m\n\u001b[1;32m--> 458\u001b[1;33m             \u001b[0mestimator\u001b[0m\u001b[1;33m.\u001b[0m\u001b[0mfit\u001b[0m\u001b[1;33m(\u001b[0m\u001b[0mX_train\u001b[0m\u001b[1;33m,\u001b[0m \u001b[0my_train\u001b[0m\u001b[1;33m,\u001b[0m \u001b[1;33m**\u001b[0m\u001b[0mfit_params\u001b[0m\u001b[1;33m)\u001b[0m\u001b[1;33m\u001b[0m\u001b[0m\n\u001b[0m\u001b[0;32m    459\u001b[0m \u001b[1;33m\u001b[0m\u001b[0m\n\u001b[0;32m    460\u001b[0m     \u001b[1;32mexcept\u001b[0m \u001b[0mException\u001b[0m \u001b[1;32mas\u001b[0m \u001b[0me\u001b[0m\u001b[1;33m:\u001b[0m\u001b[1;33m\u001b[0m\u001b[0m\n",
      "\u001b[1;32mc:\\python36-64\\lib\\site-packages\\sklearn\\ensemble\\forest.py\u001b[0m in \u001b[0;36mfit\u001b[1;34m(self, X, y, sample_weight)\u001b[0m\n\u001b[0;32m    326\u001b[0m                     \u001b[0mt\u001b[0m\u001b[1;33m,\u001b[0m \u001b[0mself\u001b[0m\u001b[1;33m,\u001b[0m \u001b[0mX\u001b[0m\u001b[1;33m,\u001b[0m \u001b[0my\u001b[0m\u001b[1;33m,\u001b[0m \u001b[0msample_weight\u001b[0m\u001b[1;33m,\u001b[0m \u001b[0mi\u001b[0m\u001b[1;33m,\u001b[0m \u001b[0mlen\u001b[0m\u001b[1;33m(\u001b[0m\u001b[0mtrees\u001b[0m\u001b[1;33m)\u001b[0m\u001b[1;33m,\u001b[0m\u001b[1;33m\u001b[0m\u001b[0m\n\u001b[0;32m    327\u001b[0m                     verbose=self.verbose, class_weight=self.class_weight)\n\u001b[1;32m--> 328\u001b[1;33m                 for i, t in enumerate(trees))\n\u001b[0m\u001b[0;32m    329\u001b[0m \u001b[1;33m\u001b[0m\u001b[0m\n\u001b[0;32m    330\u001b[0m             \u001b[1;31m# Collect newly grown trees\u001b[0m\u001b[1;33m\u001b[0m\u001b[1;33m\u001b[0m\u001b[0m\n",
      "\u001b[1;32mc:\\python36-64\\lib\\site-packages\\sklearn\\externals\\joblib\\parallel.py\u001b[0m in \u001b[0;36m__call__\u001b[1;34m(self, iterable)\u001b[0m\n\u001b[0;32m    777\u001b[0m             \u001b[1;31m# was dispatched. In particular this covers the edge\u001b[0m\u001b[1;33m\u001b[0m\u001b[1;33m\u001b[0m\u001b[0m\n\u001b[0;32m    778\u001b[0m             \u001b[1;31m# case of Parallel used with an exhausted iterator.\u001b[0m\u001b[1;33m\u001b[0m\u001b[1;33m\u001b[0m\u001b[0m\n\u001b[1;32m--> 779\u001b[1;33m             \u001b[1;32mwhile\u001b[0m \u001b[0mself\u001b[0m\u001b[1;33m.\u001b[0m\u001b[0mdispatch_one_batch\u001b[0m\u001b[1;33m(\u001b[0m\u001b[0miterator\u001b[0m\u001b[1;33m)\u001b[0m\u001b[1;33m:\u001b[0m\u001b[1;33m\u001b[0m\u001b[0m\n\u001b[0m\u001b[0;32m    780\u001b[0m                 \u001b[0mself\u001b[0m\u001b[1;33m.\u001b[0m\u001b[0m_iterating\u001b[0m \u001b[1;33m=\u001b[0m \u001b[1;32mTrue\u001b[0m\u001b[1;33m\u001b[0m\u001b[0m\n\u001b[0;32m    781\u001b[0m             \u001b[1;32melse\u001b[0m\u001b[1;33m:\u001b[0m\u001b[1;33m\u001b[0m\u001b[0m\n",
      "\u001b[1;32mc:\\python36-64\\lib\\site-packages\\sklearn\\externals\\joblib\\parallel.py\u001b[0m in \u001b[0;36mdispatch_one_batch\u001b[1;34m(self, iterator)\u001b[0m\n\u001b[0;32m    623\u001b[0m                 \u001b[1;32mreturn\u001b[0m \u001b[1;32mFalse\u001b[0m\u001b[1;33m\u001b[0m\u001b[0m\n\u001b[0;32m    624\u001b[0m             \u001b[1;32melse\u001b[0m\u001b[1;33m:\u001b[0m\u001b[1;33m\u001b[0m\u001b[0m\n\u001b[1;32m--> 625\u001b[1;33m                 \u001b[0mself\u001b[0m\u001b[1;33m.\u001b[0m\u001b[0m_dispatch\u001b[0m\u001b[1;33m(\u001b[0m\u001b[0mtasks\u001b[0m\u001b[1;33m)\u001b[0m\u001b[1;33m\u001b[0m\u001b[0m\n\u001b[0m\u001b[0;32m    626\u001b[0m                 \u001b[1;32mreturn\u001b[0m \u001b[1;32mTrue\u001b[0m\u001b[1;33m\u001b[0m\u001b[0m\n\u001b[0;32m    627\u001b[0m \u001b[1;33m\u001b[0m\u001b[0m\n",
      "\u001b[1;32mc:\\python36-64\\lib\\site-packages\\sklearn\\externals\\joblib\\parallel.py\u001b[0m in \u001b[0;36m_dispatch\u001b[1;34m(self, batch)\u001b[0m\n\u001b[0;32m    586\u001b[0m         \u001b[0mdispatch_timestamp\u001b[0m \u001b[1;33m=\u001b[0m \u001b[0mtime\u001b[0m\u001b[1;33m.\u001b[0m\u001b[0mtime\u001b[0m\u001b[1;33m(\u001b[0m\u001b[1;33m)\u001b[0m\u001b[1;33m\u001b[0m\u001b[0m\n\u001b[0;32m    587\u001b[0m         \u001b[0mcb\u001b[0m \u001b[1;33m=\u001b[0m \u001b[0mBatchCompletionCallBack\u001b[0m\u001b[1;33m(\u001b[0m\u001b[0mdispatch_timestamp\u001b[0m\u001b[1;33m,\u001b[0m \u001b[0mlen\u001b[0m\u001b[1;33m(\u001b[0m\u001b[0mbatch\u001b[0m\u001b[1;33m)\u001b[0m\u001b[1;33m,\u001b[0m \u001b[0mself\u001b[0m\u001b[1;33m)\u001b[0m\u001b[1;33m\u001b[0m\u001b[0m\n\u001b[1;32m--> 588\u001b[1;33m         \u001b[0mjob\u001b[0m \u001b[1;33m=\u001b[0m \u001b[0mself\u001b[0m\u001b[1;33m.\u001b[0m\u001b[0m_backend\u001b[0m\u001b[1;33m.\u001b[0m\u001b[0mapply_async\u001b[0m\u001b[1;33m(\u001b[0m\u001b[0mbatch\u001b[0m\u001b[1;33m,\u001b[0m \u001b[0mcallback\u001b[0m\u001b[1;33m=\u001b[0m\u001b[0mcb\u001b[0m\u001b[1;33m)\u001b[0m\u001b[1;33m\u001b[0m\u001b[0m\n\u001b[0m\u001b[0;32m    589\u001b[0m         \u001b[0mself\u001b[0m\u001b[1;33m.\u001b[0m\u001b[0m_jobs\u001b[0m\u001b[1;33m.\u001b[0m\u001b[0mappend\u001b[0m\u001b[1;33m(\u001b[0m\u001b[0mjob\u001b[0m\u001b[1;33m)\u001b[0m\u001b[1;33m\u001b[0m\u001b[0m\n\u001b[0;32m    590\u001b[0m \u001b[1;33m\u001b[0m\u001b[0m\n",
      "\u001b[1;32mc:\\python36-64\\lib\\site-packages\\sklearn\\externals\\joblib\\_parallel_backends.py\u001b[0m in \u001b[0;36mapply_async\u001b[1;34m(self, func, callback)\u001b[0m\n\u001b[0;32m    109\u001b[0m     \u001b[1;32mdef\u001b[0m \u001b[0mapply_async\u001b[0m\u001b[1;33m(\u001b[0m\u001b[0mself\u001b[0m\u001b[1;33m,\u001b[0m \u001b[0mfunc\u001b[0m\u001b[1;33m,\u001b[0m \u001b[0mcallback\u001b[0m\u001b[1;33m=\u001b[0m\u001b[1;32mNone\u001b[0m\u001b[1;33m)\u001b[0m\u001b[1;33m:\u001b[0m\u001b[1;33m\u001b[0m\u001b[0m\n\u001b[0;32m    110\u001b[0m         \u001b[1;34m\"\"\"Schedule a func to be run\"\"\"\u001b[0m\u001b[1;33m\u001b[0m\u001b[0m\n\u001b[1;32m--> 111\u001b[1;33m         \u001b[0mresult\u001b[0m \u001b[1;33m=\u001b[0m \u001b[0mImmediateResult\u001b[0m\u001b[1;33m(\u001b[0m\u001b[0mfunc\u001b[0m\u001b[1;33m)\u001b[0m\u001b[1;33m\u001b[0m\u001b[0m\n\u001b[0m\u001b[0;32m    112\u001b[0m         \u001b[1;32mif\u001b[0m \u001b[0mcallback\u001b[0m\u001b[1;33m:\u001b[0m\u001b[1;33m\u001b[0m\u001b[0m\n\u001b[0;32m    113\u001b[0m             \u001b[0mcallback\u001b[0m\u001b[1;33m(\u001b[0m\u001b[0mresult\u001b[0m\u001b[1;33m)\u001b[0m\u001b[1;33m\u001b[0m\u001b[0m\n",
      "\u001b[1;32mc:\\python36-64\\lib\\site-packages\\sklearn\\externals\\joblib\\_parallel_backends.py\u001b[0m in \u001b[0;36m__init__\u001b[1;34m(self, batch)\u001b[0m\n\u001b[0;32m    330\u001b[0m         \u001b[1;31m# Don't delay the application, to avoid keeping the input\u001b[0m\u001b[1;33m\u001b[0m\u001b[1;33m\u001b[0m\u001b[0m\n\u001b[0;32m    331\u001b[0m         \u001b[1;31m# arguments in memory\u001b[0m\u001b[1;33m\u001b[0m\u001b[1;33m\u001b[0m\u001b[0m\n\u001b[1;32m--> 332\u001b[1;33m         \u001b[0mself\u001b[0m\u001b[1;33m.\u001b[0m\u001b[0mresults\u001b[0m \u001b[1;33m=\u001b[0m \u001b[0mbatch\u001b[0m\u001b[1;33m(\u001b[0m\u001b[1;33m)\u001b[0m\u001b[1;33m\u001b[0m\u001b[0m\n\u001b[0m\u001b[0;32m    333\u001b[0m \u001b[1;33m\u001b[0m\u001b[0m\n\u001b[0;32m    334\u001b[0m     \u001b[1;32mdef\u001b[0m \u001b[0mget\u001b[0m\u001b[1;33m(\u001b[0m\u001b[0mself\u001b[0m\u001b[1;33m)\u001b[0m\u001b[1;33m:\u001b[0m\u001b[1;33m\u001b[0m\u001b[0m\n",
      "\u001b[1;32mc:\\python36-64\\lib\\site-packages\\sklearn\\externals\\joblib\\parallel.py\u001b[0m in \u001b[0;36m__call__\u001b[1;34m(self)\u001b[0m\n\u001b[0;32m    129\u001b[0m \u001b[1;33m\u001b[0m\u001b[0m\n\u001b[0;32m    130\u001b[0m     \u001b[1;32mdef\u001b[0m \u001b[0m__call__\u001b[0m\u001b[1;33m(\u001b[0m\u001b[0mself\u001b[0m\u001b[1;33m)\u001b[0m\u001b[1;33m:\u001b[0m\u001b[1;33m\u001b[0m\u001b[0m\n\u001b[1;32m--> 131\u001b[1;33m         \u001b[1;32mreturn\u001b[0m \u001b[1;33m[\u001b[0m\u001b[0mfunc\u001b[0m\u001b[1;33m(\u001b[0m\u001b[1;33m*\u001b[0m\u001b[0margs\u001b[0m\u001b[1;33m,\u001b[0m \u001b[1;33m**\u001b[0m\u001b[0mkwargs\u001b[0m\u001b[1;33m)\u001b[0m \u001b[1;32mfor\u001b[0m \u001b[0mfunc\u001b[0m\u001b[1;33m,\u001b[0m \u001b[0margs\u001b[0m\u001b[1;33m,\u001b[0m \u001b[0mkwargs\u001b[0m \u001b[1;32min\u001b[0m \u001b[0mself\u001b[0m\u001b[1;33m.\u001b[0m\u001b[0mitems\u001b[0m\u001b[1;33m]\u001b[0m\u001b[1;33m\u001b[0m\u001b[0m\n\u001b[0m\u001b[0;32m    132\u001b[0m \u001b[1;33m\u001b[0m\u001b[0m\n\u001b[0;32m    133\u001b[0m     \u001b[1;32mdef\u001b[0m \u001b[0m__len__\u001b[0m\u001b[1;33m(\u001b[0m\u001b[0mself\u001b[0m\u001b[1;33m)\u001b[0m\u001b[1;33m:\u001b[0m\u001b[1;33m\u001b[0m\u001b[0m\n",
      "\u001b[1;32mc:\\python36-64\\lib\\site-packages\\sklearn\\externals\\joblib\\parallel.py\u001b[0m in \u001b[0;36m<listcomp>\u001b[1;34m(.0)\u001b[0m\n\u001b[0;32m    129\u001b[0m \u001b[1;33m\u001b[0m\u001b[0m\n\u001b[0;32m    130\u001b[0m     \u001b[1;32mdef\u001b[0m \u001b[0m__call__\u001b[0m\u001b[1;33m(\u001b[0m\u001b[0mself\u001b[0m\u001b[1;33m)\u001b[0m\u001b[1;33m:\u001b[0m\u001b[1;33m\u001b[0m\u001b[0m\n\u001b[1;32m--> 131\u001b[1;33m         \u001b[1;32mreturn\u001b[0m \u001b[1;33m[\u001b[0m\u001b[0mfunc\u001b[0m\u001b[1;33m(\u001b[0m\u001b[1;33m*\u001b[0m\u001b[0margs\u001b[0m\u001b[1;33m,\u001b[0m \u001b[1;33m**\u001b[0m\u001b[0mkwargs\u001b[0m\u001b[1;33m)\u001b[0m \u001b[1;32mfor\u001b[0m \u001b[0mfunc\u001b[0m\u001b[1;33m,\u001b[0m \u001b[0margs\u001b[0m\u001b[1;33m,\u001b[0m \u001b[0mkwargs\u001b[0m \u001b[1;32min\u001b[0m \u001b[0mself\u001b[0m\u001b[1;33m.\u001b[0m\u001b[0mitems\u001b[0m\u001b[1;33m]\u001b[0m\u001b[1;33m\u001b[0m\u001b[0m\n\u001b[0m\u001b[0;32m    132\u001b[0m \u001b[1;33m\u001b[0m\u001b[0m\n\u001b[0;32m    133\u001b[0m     \u001b[1;32mdef\u001b[0m \u001b[0m__len__\u001b[0m\u001b[1;33m(\u001b[0m\u001b[0mself\u001b[0m\u001b[1;33m)\u001b[0m\u001b[1;33m:\u001b[0m\u001b[1;33m\u001b[0m\u001b[0m\n",
      "\u001b[1;32mc:\\python36-64\\lib\\site-packages\\sklearn\\ensemble\\forest.py\u001b[0m in \u001b[0;36m_parallel_build_trees\u001b[1;34m(tree, forest, X, y, sample_weight, tree_idx, n_trees, verbose, class_weight)\u001b[0m\n\u001b[0;32m    121\u001b[0m         \u001b[0mtree\u001b[0m\u001b[1;33m.\u001b[0m\u001b[0mfit\u001b[0m\u001b[1;33m(\u001b[0m\u001b[0mX\u001b[0m\u001b[1;33m,\u001b[0m \u001b[0my\u001b[0m\u001b[1;33m,\u001b[0m \u001b[0msample_weight\u001b[0m\u001b[1;33m=\u001b[0m\u001b[0mcurr_sample_weight\u001b[0m\u001b[1;33m,\u001b[0m \u001b[0mcheck_input\u001b[0m\u001b[1;33m=\u001b[0m\u001b[1;32mFalse\u001b[0m\u001b[1;33m)\u001b[0m\u001b[1;33m\u001b[0m\u001b[0m\n\u001b[0;32m    122\u001b[0m     \u001b[1;32melse\u001b[0m\u001b[1;33m:\u001b[0m\u001b[1;33m\u001b[0m\u001b[0m\n\u001b[1;32m--> 123\u001b[1;33m         \u001b[0mtree\u001b[0m\u001b[1;33m.\u001b[0m\u001b[0mfit\u001b[0m\u001b[1;33m(\u001b[0m\u001b[0mX\u001b[0m\u001b[1;33m,\u001b[0m \u001b[0my\u001b[0m\u001b[1;33m,\u001b[0m \u001b[0msample_weight\u001b[0m\u001b[1;33m=\u001b[0m\u001b[0msample_weight\u001b[0m\u001b[1;33m,\u001b[0m \u001b[0mcheck_input\u001b[0m\u001b[1;33m=\u001b[0m\u001b[1;32mFalse\u001b[0m\u001b[1;33m)\u001b[0m\u001b[1;33m\u001b[0m\u001b[0m\n\u001b[0m\u001b[0;32m    124\u001b[0m \u001b[1;33m\u001b[0m\u001b[0m\n\u001b[0;32m    125\u001b[0m     \u001b[1;32mreturn\u001b[0m \u001b[0mtree\u001b[0m\u001b[1;33m\u001b[0m\u001b[0m\n",
      "\u001b[1;32mc:\\python36-64\\lib\\site-packages\\sklearn\\tree\\tree.py\u001b[0m in \u001b[0;36mfit\u001b[1;34m(self, X, y, sample_weight, check_input, X_idx_sorted)\u001b[0m\n\u001b[0;32m   1122\u001b[0m             \u001b[0msample_weight\u001b[0m\u001b[1;33m=\u001b[0m\u001b[0msample_weight\u001b[0m\u001b[1;33m,\u001b[0m\u001b[1;33m\u001b[0m\u001b[0m\n\u001b[0;32m   1123\u001b[0m             \u001b[0mcheck_input\u001b[0m\u001b[1;33m=\u001b[0m\u001b[0mcheck_input\u001b[0m\u001b[1;33m,\u001b[0m\u001b[1;33m\u001b[0m\u001b[0m\n\u001b[1;32m-> 1124\u001b[1;33m             X_idx_sorted=X_idx_sorted)\n\u001b[0m\u001b[0;32m   1125\u001b[0m         \u001b[1;32mreturn\u001b[0m \u001b[0mself\u001b[0m\u001b[1;33m\u001b[0m\u001b[0m\n\u001b[0;32m   1126\u001b[0m \u001b[1;33m\u001b[0m\u001b[0m\n",
      "\u001b[1;32mc:\\python36-64\\lib\\site-packages\\sklearn\\tree\\tree.py\u001b[0m in \u001b[0;36mfit\u001b[1;34m(self, X, y, sample_weight, check_input, X_idx_sorted)\u001b[0m\n\u001b[0;32m    360\u001b[0m                                            min_impurity_split)\n\u001b[0;32m    361\u001b[0m \u001b[1;33m\u001b[0m\u001b[0m\n\u001b[1;32m--> 362\u001b[1;33m         \u001b[0mbuilder\u001b[0m\u001b[1;33m.\u001b[0m\u001b[0mbuild\u001b[0m\u001b[1;33m(\u001b[0m\u001b[0mself\u001b[0m\u001b[1;33m.\u001b[0m\u001b[0mtree_\u001b[0m\u001b[1;33m,\u001b[0m \u001b[0mX\u001b[0m\u001b[1;33m,\u001b[0m \u001b[0my\u001b[0m\u001b[1;33m,\u001b[0m \u001b[0msample_weight\u001b[0m\u001b[1;33m,\u001b[0m \u001b[0mX_idx_sorted\u001b[0m\u001b[1;33m)\u001b[0m\u001b[1;33m\u001b[0m\u001b[0m\n\u001b[0m\u001b[0;32m    363\u001b[0m \u001b[1;33m\u001b[0m\u001b[0m\n\u001b[0;32m    364\u001b[0m         \u001b[1;32mif\u001b[0m \u001b[0mself\u001b[0m\u001b[1;33m.\u001b[0m\u001b[0mn_outputs_\u001b[0m \u001b[1;33m==\u001b[0m \u001b[1;36m1\u001b[0m\u001b[1;33m:\u001b[0m\u001b[1;33m\u001b[0m\u001b[0m\n",
      "\u001b[1;31mKeyboardInterrupt\u001b[0m: "
     ]
    }
   ],
   "source": [
    "# Number of trees in random forest\n",
    "n_estimators = [50, 100, 200]\n",
    "# Number of features to consider at every split\n",
    "max_features = ['auto', 'sqrt']\n",
    "# Maximum number of levels in tree\n",
    "max_depth = [1, 3, 5, None]\n",
    "# Minimum number of samples required to split a node\n",
    "min_samples_split = [2, 5, 10, 20]\n",
    "# Minimum number of samples required at each leaf node\n",
    "min_samples_leaf = [1, 2, 4, 8, 16, 64]\n",
    "# Method of selecting samples for training each tree\n",
    "bootstrap = [True, False]\n",
    "# Create the random grid\n",
    "random_grid = {'n_estimators': n_estimators,\n",
    "               'max_features': max_features,\n",
    "               'max_depth': max_depth,\n",
    "               'min_samples_split': min_samples_split,\n",
    "               'min_samples_leaf': min_samples_leaf,\n",
    "               'bootstrap': bootstrap}\n",
    "\n",
    "# random_grid = {\"max_depth\": [3, None],\n",
    "#               \"max_features\": sp_randint(1, 11),\n",
    "#               \"min_samples_split\": sp_randint(2, 11),\n",
    "#               \"min_samples_leaf\": sp_randint(1, 11),\n",
    "#               \"bootstrap\": [True, False]\n",
    "#               }\n",
    "\n",
    "# Use the random grid to search for best hyperparameters\n",
    "# First create the base model to tune\n",
    "rf = RandomForestRegressor()\n",
    "# Random search of parameters, using 3 fold cross validation, \n",
    "# search across 100 different combinations, and use all available cores\n",
    "rf_random = RandomizedSearchCV(estimator = rf, param_distributions = random_grid, n_iter = 20, cv = 5, verbose=100, random_state=42, scoring='r2')\n",
    "# Fit the random search model\n",
    "rf_random.fit(X, Y)"
   ]
  },
  {
   "cell_type": "code",
   "execution_count": 14,
   "metadata": {},
   "outputs": [
    {
     "data": {
      "text/plain": [
       "0.6747733428842665"
      ]
     },
     "execution_count": 14,
     "metadata": {},
     "output_type": "execute_result"
    }
   ],
   "source": [
    "rf_random.best_score_"
   ]
  },
  {
   "cell_type": "code",
   "execution_count": 11,
   "metadata": {},
   "outputs": [
    {
     "data": {
      "text/plain": [
       "{'n_estimators': 100,\n",
       " 'min_samples_split': 2,\n",
       " 'min_samples_leaf': 2,\n",
       " 'max_features': 'auto',\n",
       " 'max_depth': None,\n",
       " 'bootstrap': True}"
      ]
     },
     "execution_count": 11,
     "metadata": {},
     "output_type": "execute_result"
    }
   ],
   "source": [
    "rf_params = {'n_estimators': 100,\n",
    " 'min_samples_split': 2,\n",
    " 'min_samples_leaf': 2,\n",
    " 'max_features': 'auto',\n",
    " 'max_depth': None,\n",
    " 'bootstrap': True}\n",
    "# rf_params = rf_random.best_params_\n",
    "rf_params"
   ]
  },
  {
   "cell_type": "code",
   "execution_count": 12,
   "metadata": {},
   "outputs": [],
   "source": [
    "rf = RandomForestRegressor(**rf_params)\n",
    "# np.mean(cross_val_score(rf, X, Y, scoring='r2', cv=5, verbose=5))"
   ]
  },
  {
   "cell_type": "code",
   "execution_count": 13,
   "metadata": {},
   "outputs": [
    {
     "data": {
      "image/png": "[encoded data removed]",
      "text/plain": [
       "<Figure size 576x576 with 1 Axes>"
      ]
     },
     "metadata": {},
     "output_type": "display_data"
    }
   ],
   "source": [
    "rf.fit(X, Y)\n",
    "rf.feature_importances_\n",
    "\n",
    "feat_imp = pd.DataFrame({'importance':rf.feature_importances_})    \n",
    "feat_imp['feature'] = X.columns\n",
    "feat_imp.sort_values(by='importance', ascending=False, inplace=True)\n",
    "feat_imp = feat_imp.iloc[:30]\n",
    "feat_imp.sort_values(by='importance', inplace=True)\n",
    "feat_imp = feat_imp.set_index('feature', drop=True)\n",
    "feat_imp.plot.barh(title=\"feature_importance\", figsize=(8,8))\n",
    "plt.xlabel('Feature Importance Score')\n",
    "plt.show()"
   ]
  },
  {
   "cell_type": "code",
   "execution_count": 14,
   "metadata": {},
   "outputs": [
    {
     "data": {
      "text/plain": [
       "0.6945073979930119"
      ]
     },
     "execution_count": 14,
     "metadata": {},
     "output_type": "execute_result"
    }
   ],
   "source": [
    "rf.fit(X, Y)\n",
    "y_pred = rf.predict(X_test)\n",
    "r2_score(Y_test, y_pred)"
   ]
  },
  {
   "cell_type": "code",
   "execution_count": 15,
   "metadata": {},
   "outputs": [],
   "source": [
    "boost = GradientBoostingRegressor()\n",
    "# np.mean(cross_val_score(boost, X, Y, scoring='r2', cv=5, verbose=5))\n",
    "# boost.fit(X, Y)\n",
    "# y_pred = boost.predict(X)\n",
    "# r2_score(Y, y_pred)"
   ]
  },
  {
   "cell_type": "code",
   "execution_count": 76,
   "metadata": {},
   "outputs": [
    {
     "name": "stdout",
     "output_type": "stream",
     "text": [
      "Fitting 5 folds for each of 20 candidates, totalling 100 fits\n",
      "[CV] n_estimators=100, min_samples_split=10, min_samples_leaf=8, max_features=sqrt, max_depth=10, learning_rate=0.05 \n",
      "[CV]  n_estimators=100, min_samples_split=10, min_samples_leaf=8, max_features=sqrt, max_depth=10, learning_rate=0.05, score=0.69225534358071, total=   3.3s\n",
      "[Parallel(n_jobs=1)]: Done   1 out of   1 | elapsed:    3.4s remaining:    0.0s\n",
      "[CV] n_estimators=100, min_samples_split=10, min_samples_leaf=8, max_features=sqrt, max_depth=10, learning_rate=0.05 \n",
      "[CV]  n_estimators=100, min_samples_split=10, min_samples_leaf=8, max_features=sqrt, max_depth=10, learning_rate=0.05, score=0.6621898808366429, total=   3.3s\n",
      "[Parallel(n_jobs=1)]: Done   2 out of   2 | elapsed:    6.9s remaining:    0.0s\n",
      "[CV] n_estimators=100, min_samples_split=10, min_samples_leaf=8, max_features=sqrt, max_depth=10, learning_rate=0.05 \n",
      "[CV]  n_estimators=100, min_samples_split=10, min_samples_leaf=8, max_features=sqrt, max_depth=10, learning_rate=0.05, score=0.6106625212906667, total=   3.2s\n",
      "[Parallel(n_jobs=1)]: Done   3 out of   3 | elapsed:   10.3s remaining:    0.0s\n",
      "[CV] n_estimators=100, min_samples_split=10, min_samples_leaf=8, max_features=sqrt, max_depth=10, learning_rate=0.05 \n",
      "[CV]  n_estimators=100, min_samples_split=10, min_samples_leaf=8, max_features=sqrt, max_depth=10, learning_rate=0.05, score=0.6376063029274006, total=   3.2s\n",
      "[Parallel(n_jobs=1)]: Done   4 out of   4 | elapsed:   13.7s remaining:    0.0s\n",
      "[CV] n_estimators=100, min_samples_split=10, min_samples_leaf=8, max_features=sqrt, max_depth=10, learning_rate=0.05 \n",
      "[CV]  n_estimators=100, min_samples_split=10, min_samples_leaf=8, max_features=sqrt, max_depth=10, learning_rate=0.05, score=0.6633434200150139, total=   3.3s\n",
      "[Parallel(n_jobs=1)]: Done   5 out of   5 | elapsed:   17.2s remaining:    0.0s\n",
      "[CV] n_estimators=100, min_samples_split=5, min_samples_leaf=16, max_features=auto, max_depth=10, learning_rate=0.05 \n",
      "[CV]  n_estimators=100, min_samples_split=5, min_samples_leaf=16, max_features=auto, max_depth=10, learning_rate=0.05, score=0.7182780435292988, total=  21.8s\n",
      "[Parallel(n_jobs=1)]: Done   6 out of   6 | elapsed:   39.2s remaining:    0.0s\n",
      "[CV] n_estimators=100, min_samples_split=5, min_samples_leaf=16, max_features=auto, max_depth=10, learning_rate=0.05 \n",
      "[CV]  n_estimators=100, min_samples_split=5, min_samples_leaf=16, max_features=auto, max_depth=10, learning_rate=0.05, score=0.6748099796128655, total=  20.4s\n",
      "[Parallel(n_jobs=1)]: Done   7 out of   7 | elapsed:   59.9s remaining:    0.0s\n",
      "[CV] n_estimators=100, min_samples_split=5, min_samples_leaf=16, max_features=auto, max_depth=10, learning_rate=0.05 \n",
      "[CV]  n_estimators=100, min_samples_split=5, min_samples_leaf=16, max_features=auto, max_depth=10, learning_rate=0.05, score=0.6228948927712505, total=  20.8s\n",
      "[Parallel(n_jobs=1)]: Done   8 out of   8 | elapsed:  1.3min remaining:    0.0s\n",
      "[CV] n_estimators=100, min_samples_split=5, min_samples_leaf=16, max_features=auto, max_depth=10, learning_rate=0.05 \n",
      "[CV]  n_estimators=100, min_samples_split=5, min_samples_leaf=16, max_features=auto, max_depth=10, learning_rate=0.05, score=0.6593014241081327, total=  19.6s\n",
      "[Parallel(n_jobs=1)]: Done   9 out of   9 | elapsed:  1.7min remaining:    0.0s\n",
      "[CV] n_estimators=100, min_samples_split=5, min_samples_leaf=16, max_features=auto, max_depth=10, learning_rate=0.05 \n",
      "[CV]  n_estimators=100, min_samples_split=5, min_samples_leaf=16, max_features=auto, max_depth=10, learning_rate=0.05, score=0.6759898144955107, total=  20.3s\n",
      "[Parallel(n_jobs=1)]: Done  10 out of  10 | elapsed:  2.0min remaining:    0.0s\n",
      "[CV] n_estimators=100, min_samples_split=20, min_samples_leaf=16, max_features=auto, max_depth=10, learning_rate=0.01 \n",
      "[CV]  n_estimators=100, min_samples_split=20, min_samples_leaf=16, max_features=auto, max_depth=10, learning_rate=0.01, score=0.5485054390216773, total=  25.1s\n",
      "[Parallel(n_jobs=1)]: Done  11 out of  11 | elapsed:  2.4min remaining:    0.0s\n",
      "[CV] n_estimators=100, min_samples_split=20, min_samples_leaf=16, max_features=auto, max_depth=10, learning_rate=0.01 \n",
      "[CV]  n_estimators=100, min_samples_split=20, min_samples_leaf=16, max_features=auto, max_depth=10, learning_rate=0.01, score=0.5273747860822313, total=  26.6s\n",
      "[Parallel(n_jobs=1)]: Done  12 out of  12 | elapsed:  2.9min remaining:    0.0s\n",
      "[CV] n_estimators=100, min_samples_split=20, min_samples_leaf=16, max_features=auto, max_depth=10, learning_rate=0.01 \n",
      "[CV]  n_estimators=100, min_samples_split=20, min_samples_leaf=16, max_features=auto, max_depth=10, learning_rate=0.01, score=0.48723093300243436, total=  26.4s\n",
      "[Parallel(n_jobs=1)]: Done  13 out of  13 | elapsed:  3.3min remaining:    0.0s\n",
      "[CV] n_estimators=100, min_samples_split=20, min_samples_leaf=16, max_features=auto, max_depth=10, learning_rate=0.01 \n",
      "[CV]  n_estimators=100, min_samples_split=20, min_samples_leaf=16, max_features=auto, max_depth=10, learning_rate=0.01, score=0.503571022292888, total=  25.7s\n",
      "[Parallel(n_jobs=1)]: Done  14 out of  14 | elapsed:  3.8min remaining:    0.0s\n",
      "[CV] n_estimators=100, min_samples_split=20, min_samples_leaf=16, max_features=auto, max_depth=10, learning_rate=0.01 \n",
      "[CV]  n_estimators=100, min_samples_split=20, min_samples_leaf=16, max_features=auto, max_depth=10, learning_rate=0.01, score=0.5256014934834817, total=  26.7s\n",
      "[Parallel(n_jobs=1)]: Done  15 out of  15 | elapsed:  4.2min remaining:    0.0s\n",
      "[CV] n_estimators=100, min_samples_split=20, min_samples_leaf=2, max_features=sqrt, max_depth=20, learning_rate=0.01 \n",
      "[CV]  n_estimators=100, min_samples_split=20, min_samples_leaf=2, max_features=sqrt, max_depth=20, learning_rate=0.01, score=0.5686011881232689, total=  10.0s\n",
      "[Parallel(n_jobs=1)]: Done  16 out of  16 | elapsed:  4.4min remaining:    0.0s\n",
      "[CV] n_estimators=100, min_samples_split=20, min_samples_leaf=2, max_features=sqrt, max_depth=20, learning_rate=0.01 \n",
      "[CV]  n_estimators=100, min_samples_split=20, min_samples_leaf=2, max_features=sqrt, max_depth=20, learning_rate=0.01, score=0.5553641949450681, total=  11.2s\n",
      "[Parallel(n_jobs=1)]: Done  17 out of  17 | elapsed:  4.6min remaining:    0.0s\n",
      "[CV] n_estimators=100, min_samples_split=20, min_samples_leaf=2, max_features=sqrt, max_depth=20, learning_rate=0.01 \n",
      "[CV]  n_estimators=100, min_samples_split=20, min_samples_leaf=2, max_features=sqrt, max_depth=20, learning_rate=0.01, score=0.5068085327546032, total=  11.1s\n",
      "[Parallel(n_jobs=1)]: Done  18 out of  18 | elapsed:  4.8min remaining:    0.0s\n",
      "[CV] n_estimators=100, min_samples_split=20, min_samples_leaf=2, max_features=sqrt, max_depth=20, learning_rate=0.01 \n",
      "[CV]  n_estimators=100, min_samples_split=20, min_samples_leaf=2, max_features=sqrt, max_depth=20, learning_rate=0.01, score=0.5268157485894598, total=  11.8s\n",
      "[Parallel(n_jobs=1)]: Done  19 out of  19 | elapsed:  5.0min remaining:    0.0s\n",
      "[CV] n_estimators=100, min_samples_split=20, min_samples_leaf=2, max_features=sqrt, max_depth=20, learning_rate=0.01 \n",
      "[CV]  n_estimators=100, min_samples_split=20, min_samples_leaf=2, max_features=sqrt, max_depth=20, learning_rate=0.01, score=0.553744283908801, total=  12.1s\n",
      "[Parallel(n_jobs=1)]: Done  20 out of  20 | elapsed:  5.2min remaining:    0.0s\n",
      "[CV] n_estimators=200, min_samples_split=40, min_samples_leaf=4, max_features=sqrt, max_depth=20, learning_rate=0.05 \n",
      "[CV]  n_estimators=200, min_samples_split=40, min_samples_leaf=4, max_features=sqrt, max_depth=20, learning_rate=0.05, score=0.7451582214590007, total=  11.2s\n",
      "[Parallel(n_jobs=1)]: Done  21 out of  21 | elapsed:  5.4min remaining:    0.0s\n",
      "[CV] n_estimators=200, min_samples_split=40, min_samples_leaf=4, max_features=sqrt, max_depth=20, learning_rate=0.05 \n",
      "[CV]  n_estimators=200, min_samples_split=40, min_samples_leaf=4, max_features=sqrt, max_depth=20, learning_rate=0.05, score=0.7059090502751775, total=  13.0s\n",
      "[Parallel(n_jobs=1)]: Done  22 out of  22 | elapsed:  5.6min remaining:    0.0s\n",
      "[CV] n_estimators=200, min_samples_split=40, min_samples_leaf=4, max_features=sqrt, max_depth=20, learning_rate=0.05 \n",
      "[CV]  n_estimators=200, min_samples_split=40, min_samples_leaf=4, max_features=sqrt, max_depth=20, learning_rate=0.05, score=0.6719327575303371, total=  13.8s\n",
      "[Parallel(n_jobs=1)]: Done  23 out of  23 | elapsed:  5.8min remaining:    0.0s\n",
      "[CV] n_estimators=200, min_samples_split=40, min_samples_leaf=4, max_features=sqrt, max_depth=20, learning_rate=0.05 \n"
     ]
    },
    {
     "name": "stdout",
     "output_type": "stream",
     "text": [
      "[CV]  n_estimators=200, min_samples_split=40, min_samples_leaf=4, max_features=sqrt, max_depth=20, learning_rate=0.05, score=0.6886038651823163, total=  12.3s\n",
      "[Parallel(n_jobs=1)]: Done  24 out of  24 | elapsed:  6.0min remaining:    0.0s\n",
      "[CV] n_estimators=200, min_samples_split=40, min_samples_leaf=4, max_features=sqrt, max_depth=20, learning_rate=0.05 \n",
      "[CV]  n_estimators=200, min_samples_split=40, min_samples_leaf=4, max_features=sqrt, max_depth=20, learning_rate=0.05, score=0.7115788482738079, total=  10.7s\n",
      "[Parallel(n_jobs=1)]: Done  25 out of  25 | elapsed:  6.2min remaining:    0.0s\n",
      "[CV] n_estimators=200, min_samples_split=10, min_samples_leaf=1, max_features=sqrt, max_depth=10, learning_rate=0.01 \n",
      "[CV]  n_estimators=200, min_samples_split=10, min_samples_leaf=1, max_features=sqrt, max_depth=10, learning_rate=0.01, score=0.6363241862505616, total=   8.8s\n",
      "[Parallel(n_jobs=1)]: Done  26 out of  26 | elapsed:  6.4min remaining:    0.0s\n",
      "[CV] n_estimators=200, min_samples_split=10, min_samples_leaf=1, max_features=sqrt, max_depth=10, learning_rate=0.01 \n",
      "[CV]  n_estimators=200, min_samples_split=10, min_samples_leaf=1, max_features=sqrt, max_depth=10, learning_rate=0.01, score=0.6110672324742079, total=  10.3s\n",
      "[Parallel(n_jobs=1)]: Done  27 out of  27 | elapsed:  6.6min remaining:    0.0s\n",
      "[CV] n_estimators=200, min_samples_split=10, min_samples_leaf=1, max_features=sqrt, max_depth=10, learning_rate=0.01 \n",
      "[CV]  n_estimators=200, min_samples_split=10, min_samples_leaf=1, max_features=sqrt, max_depth=10, learning_rate=0.01, score=0.5545010468751557, total=  10.5s\n",
      "[Parallel(n_jobs=1)]: Done  28 out of  28 | elapsed:  6.7min remaining:    0.0s\n",
      "[CV] n_estimators=200, min_samples_split=10, min_samples_leaf=1, max_features=sqrt, max_depth=10, learning_rate=0.01 \n",
      "[CV]  n_estimators=200, min_samples_split=10, min_samples_leaf=1, max_features=sqrt, max_depth=10, learning_rate=0.01, score=0.5730291042123519, total=   9.6s\n",
      "[Parallel(n_jobs=1)]: Done  29 out of  29 | elapsed:  6.9min remaining:    0.0s\n",
      "[CV] n_estimators=200, min_samples_split=10, min_samples_leaf=1, max_features=sqrt, max_depth=10, learning_rate=0.01 \n",
      "[CV]  n_estimators=200, min_samples_split=10, min_samples_leaf=1, max_features=sqrt, max_depth=10, learning_rate=0.01, score=0.5997804514468036, total=  10.1s\n",
      "[Parallel(n_jobs=1)]: Done  30 out of  30 | elapsed:  7.1min remaining:    0.0s\n",
      "[CV] n_estimators=200, min_samples_split=5, min_samples_leaf=1, max_features=sqrt, max_depth=10, learning_rate=0.01 \n",
      "[CV]  n_estimators=200, min_samples_split=5, min_samples_leaf=1, max_features=sqrt, max_depth=10, learning_rate=0.01, score=0.6345780814690796, total=  10.7s\n",
      "[Parallel(n_jobs=1)]: Done  31 out of  31 | elapsed:  7.3min remaining:    0.0s\n",
      "[CV] n_estimators=200, min_samples_split=5, min_samples_leaf=1, max_features=sqrt, max_depth=10, learning_rate=0.01 \n",
      "[CV]  n_estimators=200, min_samples_split=5, min_samples_leaf=1, max_features=sqrt, max_depth=10, learning_rate=0.01, score=0.6090745509479656, total=  10.1s\n",
      "[Parallel(n_jobs=1)]: Done  32 out of  32 | elapsed:  7.4min remaining:    0.0s\n",
      "[CV] n_estimators=200, min_samples_split=5, min_samples_leaf=1, max_features=sqrt, max_depth=10, learning_rate=0.01 \n",
      "[CV]  n_estimators=200, min_samples_split=5, min_samples_leaf=1, max_features=sqrt, max_depth=10, learning_rate=0.01, score=0.5607599666942957, total=  10.1s\n",
      "[Parallel(n_jobs=1)]: Done  33 out of  33 | elapsed:  7.6min remaining:    0.0s\n",
      "[CV] n_estimators=200, min_samples_split=5, min_samples_leaf=1, max_features=sqrt, max_depth=10, learning_rate=0.01 \n",
      "[CV]  n_estimators=200, min_samples_split=5, min_samples_leaf=1, max_features=sqrt, max_depth=10, learning_rate=0.01, score=0.5753899834075399, total=  10.3s\n",
      "[Parallel(n_jobs=1)]: Done  34 out of  34 | elapsed:  7.8min remaining:    0.0s\n",
      "[CV] n_estimators=200, min_samples_split=5, min_samples_leaf=1, max_features=sqrt, max_depth=10, learning_rate=0.01 \n",
      "[CV]  n_estimators=200, min_samples_split=5, min_samples_leaf=1, max_features=sqrt, max_depth=10, learning_rate=0.01, score=0.6077657772957012, total=  10.4s\n",
      "[Parallel(n_jobs=1)]: Done  35 out of  35 | elapsed:  8.0min remaining:    0.0s\n",
      "[CV] n_estimators=200, min_samples_split=2, min_samples_leaf=4, max_features=auto, max_depth=20, learning_rate=0.01 \n",
      "[CV]  n_estimators=200, min_samples_split=2, min_samples_leaf=4, max_features=auto, max_depth=20, learning_rate=0.01, score=0.700651214735535, total= 3.8min\n",
      "[Parallel(n_jobs=1)]: Done  36 out of  36 | elapsed: 11.8min remaining:    0.0s\n",
      "[CV] n_estimators=200, min_samples_split=2, min_samples_leaf=4, max_features=auto, max_depth=20, learning_rate=0.01 \n",
      "[CV]  n_estimators=200, min_samples_split=2, min_samples_leaf=4, max_features=auto, max_depth=20, learning_rate=0.01, score=0.6543173223305225, total= 3.8min\n",
      "[Parallel(n_jobs=1)]: Done  37 out of  37 | elapsed: 15.6min remaining:    0.0s\n",
      "[CV] n_estimators=200, min_samples_split=2, min_samples_leaf=4, max_features=auto, max_depth=20, learning_rate=0.01 \n",
      "[CV]  n_estimators=200, min_samples_split=2, min_samples_leaf=4, max_features=auto, max_depth=20, learning_rate=0.01, score=0.6137902483998566, total= 3.9min\n",
      "[Parallel(n_jobs=1)]: Done  38 out of  38 | elapsed: 19.5min remaining:    0.0s\n",
      "[CV] n_estimators=200, min_samples_split=2, min_samples_leaf=4, max_features=auto, max_depth=20, learning_rate=0.01 \n",
      "[CV]  n_estimators=200, min_samples_split=2, min_samples_leaf=4, max_features=auto, max_depth=20, learning_rate=0.01, score=0.6455314919824993, total= 3.8min\n",
      "[Parallel(n_jobs=1)]: Done  39 out of  39 | elapsed: 23.3min remaining:    0.0s\n",
      "[CV] n_estimators=200, min_samples_split=2, min_samples_leaf=4, max_features=auto, max_depth=20, learning_rate=0.01 \n",
      "[CV]  n_estimators=200, min_samples_split=2, min_samples_leaf=4, max_features=auto, max_depth=20, learning_rate=0.01, score=0.6669742234666494, total= 3.7min\n",
      "[Parallel(n_jobs=1)]: Done  40 out of  40 | elapsed: 27.1min remaining:    0.0s\n",
      "[CV] n_estimators=100, min_samples_split=10, min_samples_leaf=16, max_features=auto, max_depth=10, learning_rate=0.05 \n",
      "[CV]  n_estimators=100, min_samples_split=10, min_samples_leaf=16, max_features=auto, max_depth=10, learning_rate=0.05, score=0.7182743144773105, total=  24.7s\n",
      "[Parallel(n_jobs=1)]: Done  41 out of  41 | elapsed: 27.5min remaining:    0.0s\n",
      "[CV] n_estimators=100, min_samples_split=10, min_samples_leaf=16, max_features=auto, max_depth=10, learning_rate=0.05 \n",
      "[CV]  n_estimators=100, min_samples_split=10, min_samples_leaf=16, max_features=auto, max_depth=10, learning_rate=0.05, score=0.6746890743620098, total=  26.4s\n",
      "[Parallel(n_jobs=1)]: Done  42 out of  42 | elapsed: 27.9min remaining:    0.0s\n",
      "[CV] n_estimators=100, min_samples_split=10, min_samples_leaf=16, max_features=auto, max_depth=10, learning_rate=0.05 \n",
      "[CV]  n_estimators=100, min_samples_split=10, min_samples_leaf=16, max_features=auto, max_depth=10, learning_rate=0.05, score=0.6228173255113125, total=  23.7s\n",
      "[Parallel(n_jobs=1)]: Done  43 out of  43 | elapsed: 28.3min remaining:    0.0s\n",
      "[CV] n_estimators=100, min_samples_split=10, min_samples_leaf=16, max_features=auto, max_depth=10, learning_rate=0.05 \n",
      "[CV]  n_estimators=100, min_samples_split=10, min_samples_leaf=16, max_features=auto, max_depth=10, learning_rate=0.05, score=0.6593573060476161, total=  24.6s\n",
      "[Parallel(n_jobs=1)]: Done  44 out of  44 | elapsed: 28.7min remaining:    0.0s\n",
      "[CV] n_estimators=100, min_samples_split=10, min_samples_leaf=16, max_features=auto, max_depth=10, learning_rate=0.05 \n",
      "[CV]  n_estimators=100, min_samples_split=10, min_samples_leaf=16, max_features=auto, max_depth=10, learning_rate=0.05, score=0.6759824993551486, total=  23.1s\n",
      "[Parallel(n_jobs=1)]: Done  45 out of  45 | elapsed: 29.1min remaining:    0.0s\n",
      "[CV] n_estimators=100, min_samples_split=20, min_samples_leaf=4, max_features=auto, max_depth=20, learning_rate=0.05 \n",
      "[CV]  n_estimators=100, min_samples_split=20, min_samples_leaf=4, max_features=auto, max_depth=20, learning_rate=0.05, score=0.7316989118686055, total= 1.1min\n",
      "[Parallel(n_jobs=1)]: Done  46 out of  46 | elapsed: 30.2min remaining:    0.0s\n",
      "[CV] n_estimators=100, min_samples_split=20, min_samples_leaf=4, max_features=auto, max_depth=20, learning_rate=0.05 \n"
     ]
    },
    {
     "name": "stdout",
     "output_type": "stream",
     "text": [
      "[CV]  n_estimators=100, min_samples_split=20, min_samples_leaf=4, max_features=auto, max_depth=20, learning_rate=0.05, score=0.6796763729353559, total= 1.1min\n",
      "[Parallel(n_jobs=1)]: Done  47 out of  47 | elapsed: 31.3min remaining:    0.0s\n",
      "[CV] n_estimators=100, min_samples_split=20, min_samples_leaf=4, max_features=auto, max_depth=20, learning_rate=0.05 \n",
      "[CV]  n_estimators=100, min_samples_split=20, min_samples_leaf=4, max_features=auto, max_depth=20, learning_rate=0.05, score=0.6448972436537264, total=  59.6s\n",
      "[Parallel(n_jobs=1)]: Done  48 out of  48 | elapsed: 32.3min remaining:    0.0s\n",
      "[CV] n_estimators=100, min_samples_split=20, min_samples_leaf=4, max_features=auto, max_depth=20, learning_rate=0.05 \n",
      "[CV]  n_estimators=100, min_samples_split=20, min_samples_leaf=4, max_features=auto, max_depth=20, learning_rate=0.05, score=0.6696699559826933, total= 1.1min\n",
      "[Parallel(n_jobs=1)]: Done  49 out of  49 | elapsed: 33.4min remaining:    0.0s\n",
      "[CV] n_estimators=100, min_samples_split=20, min_samples_leaf=4, max_features=auto, max_depth=20, learning_rate=0.05 \n",
      "[CV]  n_estimators=100, min_samples_split=20, min_samples_leaf=4, max_features=auto, max_depth=20, learning_rate=0.05, score=0.696052940929484, total= 1.1min\n",
      "[Parallel(n_jobs=1)]: Done  50 out of  50 | elapsed: 34.5min remaining:    0.0s\n",
      "[CV] n_estimators=100, min_samples_split=60, min_samples_leaf=8, max_features=sqrt, max_depth=20, learning_rate=0.1 \n",
      "[CV]  n_estimators=100, min_samples_split=60, min_samples_leaf=8, max_features=sqrt, max_depth=20, learning_rate=0.1, score=0.7279020927953518, total=   5.6s\n",
      "[Parallel(n_jobs=1)]: Done  51 out of  51 | elapsed: 34.6min remaining:    0.0s\n",
      "[CV] n_estimators=100, min_samples_split=60, min_samples_leaf=8, max_features=sqrt, max_depth=20, learning_rate=0.1 \n",
      "[CV]  n_estimators=100, min_samples_split=60, min_samples_leaf=8, max_features=sqrt, max_depth=20, learning_rate=0.1, score=0.6969543104390259, total=   4.4s\n",
      "[Parallel(n_jobs=1)]: Done  52 out of  52 | elapsed: 34.7min remaining:    0.0s\n",
      "[CV] n_estimators=100, min_samples_split=60, min_samples_leaf=8, max_features=sqrt, max_depth=20, learning_rate=0.1 \n",
      "[CV]  n_estimators=100, min_samples_split=60, min_samples_leaf=8, max_features=sqrt, max_depth=20, learning_rate=0.1, score=0.6498564812796344, total=   5.4s\n",
      "[Parallel(n_jobs=1)]: Done  53 out of  53 | elapsed: 34.8min remaining:    0.0s\n",
      "[CV] n_estimators=100, min_samples_split=60, min_samples_leaf=8, max_features=sqrt, max_depth=20, learning_rate=0.1 \n",
      "[CV]  n_estimators=100, min_samples_split=60, min_samples_leaf=8, max_features=sqrt, max_depth=20, learning_rate=0.1, score=0.675817078699605, total=   5.2s\n",
      "[Parallel(n_jobs=1)]: Done  54 out of  54 | elapsed: 34.9min remaining:    0.0s\n",
      "[CV] n_estimators=100, min_samples_split=60, min_samples_leaf=8, max_features=sqrt, max_depth=20, learning_rate=0.1 \n",
      "[CV]  n_estimators=100, min_samples_split=60, min_samples_leaf=8, max_features=sqrt, max_depth=20, learning_rate=0.1, score=0.7017452088223572, total=   4.9s\n",
      "[Parallel(n_jobs=1)]: Done  55 out of  55 | elapsed: 35.0min remaining:    0.0s\n",
      "[CV] n_estimators=100, min_samples_split=10, min_samples_leaf=4, max_features=sqrt, max_depth=20, learning_rate=0.05 \n",
      "[CV]  n_estimators=100, min_samples_split=10, min_samples_leaf=4, max_features=sqrt, max_depth=20, learning_rate=0.05, score=0.7370416468994503, total=  12.2s\n",
      "[Parallel(n_jobs=1)]: Done  56 out of  56 | elapsed: 35.2min remaining:    0.0s\n",
      "[CV] n_estimators=100, min_samples_split=10, min_samples_leaf=4, max_features=sqrt, max_depth=20, learning_rate=0.05 \n",
      "[CV]  n_estimators=100, min_samples_split=10, min_samples_leaf=4, max_features=sqrt, max_depth=20, learning_rate=0.05, score=0.7066826476660144, total=  13.5s\n",
      "[Parallel(n_jobs=1)]: Done  57 out of  57 | elapsed: 35.4min remaining:    0.0s\n",
      "[CV] n_estimators=100, min_samples_split=10, min_samples_leaf=4, max_features=sqrt, max_depth=20, learning_rate=0.05 \n",
      "[CV]  n_estimators=100, min_samples_split=10, min_samples_leaf=4, max_features=sqrt, max_depth=20, learning_rate=0.05, score=0.6596242519233582, total=  13.7s\n",
      "[Parallel(n_jobs=1)]: Done  58 out of  58 | elapsed: 35.6min remaining:    0.0s\n",
      "[CV] n_estimators=100, min_samples_split=10, min_samples_leaf=4, max_features=sqrt, max_depth=20, learning_rate=0.05 \n",
      "[CV]  n_estimators=100, min_samples_split=10, min_samples_leaf=4, max_features=sqrt, max_depth=20, learning_rate=0.05, score=0.6789505394562901, total=  12.0s\n",
      "[Parallel(n_jobs=1)]: Done  59 out of  59 | elapsed: 35.8min remaining:    0.0s\n",
      "[CV] n_estimators=100, min_samples_split=10, min_samples_leaf=4, max_features=sqrt, max_depth=20, learning_rate=0.05 \n",
      "[CV]  n_estimators=100, min_samples_split=10, min_samples_leaf=4, max_features=sqrt, max_depth=20, learning_rate=0.05, score=0.707065250935069, total=  13.2s\n",
      "[Parallel(n_jobs=1)]: Done  60 out of  60 | elapsed: 36.1min remaining:    0.0s\n",
      "[CV] n_estimators=200, min_samples_split=5, min_samples_leaf=8, max_features=auto, max_depth=10, learning_rate=0.01 \n",
      "[CV]  n_estimators=200, min_samples_split=5, min_samples_leaf=8, max_features=auto, max_depth=10, learning_rate=0.01, score=0.6706993933654228, total= 1.1min\n",
      "[Parallel(n_jobs=1)]: Done  61 out of  61 | elapsed: 37.2min remaining:    0.0s\n",
      "[CV] n_estimators=200, min_samples_split=5, min_samples_leaf=8, max_features=auto, max_depth=10, learning_rate=0.01 \n",
      "[CV]  n_estimators=200, min_samples_split=5, min_samples_leaf=8, max_features=auto, max_depth=10, learning_rate=0.01, score=0.6385606885109538, total= 1.1min\n",
      "[Parallel(n_jobs=1)]: Done  62 out of  62 | elapsed: 38.3min remaining:    0.0s\n",
      "[CV] n_estimators=200, min_samples_split=5, min_samples_leaf=8, max_features=auto, max_depth=10, learning_rate=0.01 \n",
      "[CV]  n_estimators=200, min_samples_split=5, min_samples_leaf=8, max_features=auto, max_depth=10, learning_rate=0.01, score=0.5908827651113883, total= 1.1min\n",
      "[Parallel(n_jobs=1)]: Done  63 out of  63 | elapsed: 39.4min remaining:    0.0s\n",
      "[CV] n_estimators=200, min_samples_split=5, min_samples_leaf=8, max_features=auto, max_depth=10, learning_rate=0.01 \n",
      "[CV]  n_estimators=200, min_samples_split=5, min_samples_leaf=8, max_features=auto, max_depth=10, learning_rate=0.01, score=0.6088895084158361, total= 1.1min\n",
      "[Parallel(n_jobs=1)]: Done  64 out of  64 | elapsed: 40.5min remaining:    0.0s\n",
      "[CV] n_estimators=200, min_samples_split=5, min_samples_leaf=8, max_features=auto, max_depth=10, learning_rate=0.01 \n",
      "[CV]  n_estimators=200, min_samples_split=5, min_samples_leaf=8, max_features=auto, max_depth=10, learning_rate=0.01, score=0.6365368670523286, total= 1.1min\n",
      "[Parallel(n_jobs=1)]: Done  65 out of  65 | elapsed: 41.6min remaining:    0.0s\n",
      "[CV] n_estimators=200, min_samples_split=10, min_samples_leaf=8, max_features=sqrt, max_depth=10, learning_rate=0.01 \n",
      "[CV]  n_estimators=200, min_samples_split=10, min_samples_leaf=8, max_features=sqrt, max_depth=10, learning_rate=0.01, score=0.6271857759869626, total=   8.9s\n",
      "[Parallel(n_jobs=1)]: Done  66 out of  66 | elapsed: 41.8min remaining:    0.0s\n",
      "[CV] n_estimators=200, min_samples_split=10, min_samples_leaf=8, max_features=sqrt, max_depth=10, learning_rate=0.01 \n",
      "[CV]  n_estimators=200, min_samples_split=10, min_samples_leaf=8, max_features=sqrt, max_depth=10, learning_rate=0.01, score=0.5945250077691671, total=   8.9s\n",
      "[Parallel(n_jobs=1)]: Done  67 out of  67 | elapsed: 41.9min remaining:    0.0s\n",
      "[CV] n_estimators=200, min_samples_split=10, min_samples_leaf=8, max_features=sqrt, max_depth=10, learning_rate=0.01 \n",
      "[CV]  n_estimators=200, min_samples_split=10, min_samples_leaf=8, max_features=sqrt, max_depth=10, learning_rate=0.01, score=0.5517792196622028, total=   9.7s\n",
      "[Parallel(n_jobs=1)]: Done  68 out of  68 | elapsed: 42.1min remaining:    0.0s\n",
      "[CV] n_estimators=200, min_samples_split=10, min_samples_leaf=8, max_features=sqrt, max_depth=10, learning_rate=0.01 \n",
      "[CV]  n_estimators=200, min_samples_split=10, min_samples_leaf=8, max_features=sqrt, max_depth=10, learning_rate=0.01, score=0.570514744735114, total=   9.1s\n",
      "[Parallel(n_jobs=1)]: Done  69 out of  69 | elapsed: 42.3min remaining:    0.0s\n",
      "[CV] n_estimators=200, min_samples_split=10, min_samples_leaf=8, max_features=sqrt, max_depth=10, learning_rate=0.01 \n",
      "[CV]  n_estimators=200, min_samples_split=10, min_samples_leaf=8, max_features=sqrt, max_depth=10, learning_rate=0.01, score=0.5961362386762352, total=   8.9s\n",
      "[Parallel(n_jobs=1)]: Done  70 out of  70 | elapsed: 42.4min remaining:    0.0s\n",
      "[CV] n_estimators=100, min_samples_split=60, min_samples_leaf=1, max_features=sqrt, max_depth=20, learning_rate=0.05 \n"
     ]
    },
    {
     "name": "stdout",
     "output_type": "stream",
     "text": [
      "[CV]  n_estimators=100, min_samples_split=60, min_samples_leaf=1, max_features=sqrt, max_depth=20, learning_rate=0.05, score=0.7278400808399552, total=   7.4s\n",
      "[Parallel(n_jobs=1)]: Done  71 out of  71 | elapsed: 42.5min remaining:    0.0s\n",
      "[CV] n_estimators=100, min_samples_split=60, min_samples_leaf=1, max_features=sqrt, max_depth=20, learning_rate=0.05 \n",
      "[CV]  n_estimators=100, min_samples_split=60, min_samples_leaf=1, max_features=sqrt, max_depth=20, learning_rate=0.05, score=0.6968676743107083, total=   7.8s\n",
      "[Parallel(n_jobs=1)]: Done  72 out of  72 | elapsed: 42.7min remaining:    0.0s\n",
      "[CV] n_estimators=100, min_samples_split=60, min_samples_leaf=1, max_features=sqrt, max_depth=20, learning_rate=0.05 \n",
      "[CV]  n_estimators=100, min_samples_split=60, min_samples_leaf=1, max_features=sqrt, max_depth=20, learning_rate=0.05, score=0.6409964566005308, total=   7.3s\n",
      "[Parallel(n_jobs=1)]: Done  73 out of  73 | elapsed: 42.8min remaining:    0.0s\n",
      "[CV] n_estimators=100, min_samples_split=60, min_samples_leaf=1, max_features=sqrt, max_depth=20, learning_rate=0.05 \n",
      "[CV]  n_estimators=100, min_samples_split=60, min_samples_leaf=1, max_features=sqrt, max_depth=20, learning_rate=0.05, score=0.6690526840017947, total=   6.7s\n",
      "[Parallel(n_jobs=1)]: Done  74 out of  74 | elapsed: 42.9min remaining:    0.0s\n",
      "[CV] n_estimators=100, min_samples_split=60, min_samples_leaf=1, max_features=sqrt, max_depth=20, learning_rate=0.05 \n",
      "[CV]  n_estimators=100, min_samples_split=60, min_samples_leaf=1, max_features=sqrt, max_depth=20, learning_rate=0.05, score=0.7025880235396305, total=   7.8s\n",
      "[Parallel(n_jobs=1)]: Done  75 out of  75 | elapsed: 43.1min remaining:    0.0s\n",
      "[CV] n_estimators=100, min_samples_split=10, min_samples_leaf=4, max_features=sqrt, max_depth=10, learning_rate=0.05 \n",
      "[CV]  n_estimators=100, min_samples_split=10, min_samples_leaf=4, max_features=sqrt, max_depth=10, learning_rate=0.05, score=0.7004423975581081, total=   4.4s\n",
      "[Parallel(n_jobs=1)]: Done  76 out of  76 | elapsed: 43.1min remaining:    0.0s\n",
      "[CV] n_estimators=100, min_samples_split=10, min_samples_leaf=4, max_features=sqrt, max_depth=10, learning_rate=0.05 \n",
      "[CV]  n_estimators=100, min_samples_split=10, min_samples_leaf=4, max_features=sqrt, max_depth=10, learning_rate=0.05, score=0.6725878555225471, total=   4.6s\n",
      "[Parallel(n_jobs=1)]: Done  77 out of  77 | elapsed: 43.2min remaining:    0.0s\n",
      "[CV] n_estimators=100, min_samples_split=10, min_samples_leaf=4, max_features=sqrt, max_depth=10, learning_rate=0.05 \n",
      "[CV]  n_estimators=100, min_samples_split=10, min_samples_leaf=4, max_features=sqrt, max_depth=10, learning_rate=0.05, score=0.621375222384398, total=   4.7s\n",
      "[Parallel(n_jobs=1)]: Done  78 out of  78 | elapsed: 43.3min remaining:    0.0s\n",
      "[CV] n_estimators=100, min_samples_split=10, min_samples_leaf=4, max_features=sqrt, max_depth=10, learning_rate=0.05 \n",
      "[CV]  n_estimators=100, min_samples_split=10, min_samples_leaf=4, max_features=sqrt, max_depth=10, learning_rate=0.05, score=0.6451997009769149, total=   4.7s\n",
      "[Parallel(n_jobs=1)]: Done  79 out of  79 | elapsed: 43.4min remaining:    0.0s\n",
      "[CV] n_estimators=100, min_samples_split=10, min_samples_leaf=4, max_features=sqrt, max_depth=10, learning_rate=0.05 \n",
      "[CV]  n_estimators=100, min_samples_split=10, min_samples_leaf=4, max_features=sqrt, max_depth=10, learning_rate=0.05, score=0.6629113655702571, total=   3.8s\n",
      "[Parallel(n_jobs=1)]: Done  80 out of  80 | elapsed: 43.5min remaining:    0.0s\n",
      "[CV] n_estimators=100, min_samples_split=5, min_samples_leaf=4, max_features=sqrt, max_depth=10, learning_rate=0.01 \n",
      "[CV]  n_estimators=100, min_samples_split=5, min_samples_leaf=4, max_features=sqrt, max_depth=10, learning_rate=0.01, score=0.5070286569563934, total=   5.6s\n",
      "[Parallel(n_jobs=1)]: Done  81 out of  81 | elapsed: 43.5min remaining:    0.0s\n",
      "[CV] n_estimators=100, min_samples_split=5, min_samples_leaf=4, max_features=sqrt, max_depth=10, learning_rate=0.01 \n",
      "[CV]  n_estimators=100, min_samples_split=5, min_samples_leaf=4, max_features=sqrt, max_depth=10, learning_rate=0.01, score=0.48533928289706385, total=   5.2s\n",
      "[Parallel(n_jobs=1)]: Done  82 out of  82 | elapsed: 43.6min remaining:    0.0s\n",
      "[CV] n_estimators=100, min_samples_split=5, min_samples_leaf=4, max_features=sqrt, max_depth=10, learning_rate=0.01 \n",
      "[CV]  n_estimators=100, min_samples_split=5, min_samples_leaf=4, max_features=sqrt, max_depth=10, learning_rate=0.01, score=0.45241718611703396, total=   5.3s\n",
      "[Parallel(n_jobs=1)]: Done  83 out of  83 | elapsed: 43.7min remaining:    0.0s\n",
      "[CV] n_estimators=100, min_samples_split=5, min_samples_leaf=4, max_features=sqrt, max_depth=10, learning_rate=0.01 \n",
      "[CV]  n_estimators=100, min_samples_split=5, min_samples_leaf=4, max_features=sqrt, max_depth=10, learning_rate=0.01, score=0.46244940465153916, total=   5.6s\n",
      "[Parallel(n_jobs=1)]: Done  84 out of  84 | elapsed: 43.8min remaining:    0.0s\n",
      "[CV] n_estimators=100, min_samples_split=5, min_samples_leaf=4, max_features=sqrt, max_depth=10, learning_rate=0.01 \n",
      "[CV]  n_estimators=100, min_samples_split=5, min_samples_leaf=4, max_features=sqrt, max_depth=10, learning_rate=0.01, score=0.48115045594227857, total=   5.1s\n",
      "[Parallel(n_jobs=1)]: Done  85 out of  85 | elapsed: 43.9min remaining:    0.0s\n",
      "[CV] n_estimators=200, min_samples_split=5, min_samples_leaf=4, max_features=auto, max_depth=20, learning_rate=0.1 \n",
      "[CV]  n_estimators=200, min_samples_split=5, min_samples_leaf=4, max_features=auto, max_depth=20, learning_rate=0.1, score=0.7231157425487929, total= 2.2min\n",
      "[Parallel(n_jobs=1)]: Done  86 out of  86 | elapsed: 46.1min remaining:    0.0s\n",
      "[CV] n_estimators=200, min_samples_split=5, min_samples_leaf=4, max_features=auto, max_depth=20, learning_rate=0.1 \n",
      "[CV]  n_estimators=200, min_samples_split=5, min_samples_leaf=4, max_features=auto, max_depth=20, learning_rate=0.1, score=0.6570379492143474, total= 2.2min\n",
      "[Parallel(n_jobs=1)]: Done  87 out of  87 | elapsed: 48.3min remaining:    0.0s\n",
      "[CV] n_estimators=200, min_samples_split=5, min_samples_leaf=4, max_features=auto, max_depth=20, learning_rate=0.1 \n",
      "[CV]  n_estimators=200, min_samples_split=5, min_samples_leaf=4, max_features=auto, max_depth=20, learning_rate=0.1, score=0.6433564860968892, total= 2.1min\n",
      "[Parallel(n_jobs=1)]: Done  88 out of  88 | elapsed: 50.4min remaining:    0.0s\n",
      "[CV] n_estimators=200, min_samples_split=5, min_samples_leaf=4, max_features=auto, max_depth=20, learning_rate=0.1 \n",
      "[CV]  n_estimators=200, min_samples_split=5, min_samples_leaf=4, max_features=auto, max_depth=20, learning_rate=0.1, score=0.6579489921929914, total= 2.1min\n",
      "[Parallel(n_jobs=1)]: Done  89 out of  89 | elapsed: 52.6min remaining:    0.0s\n",
      "[CV] n_estimators=200, min_samples_split=5, min_samples_leaf=4, max_features=auto, max_depth=20, learning_rate=0.1 \n",
      "[CV]  n_estimators=200, min_samples_split=5, min_samples_leaf=4, max_features=auto, max_depth=20, learning_rate=0.1, score=0.681016108045571, total= 1.9min\n",
      "[Parallel(n_jobs=1)]: Done  90 out of  90 | elapsed: 54.4min remaining:    0.0s\n",
      "[CV] n_estimators=200, min_samples_split=20, min_samples_leaf=2, max_features=auto, max_depth=10, learning_rate=0.05 \n",
      "[CV]  n_estimators=200, min_samples_split=20, min_samples_leaf=2, max_features=auto, max_depth=10, learning_rate=0.05, score=0.742410898892397, total=  38.7s\n",
      "[Parallel(n_jobs=1)]: Done  91 out of  91 | elapsed: 55.1min remaining:    0.0s\n",
      "[CV] n_estimators=200, min_samples_split=20, min_samples_leaf=2, max_features=auto, max_depth=10, learning_rate=0.05 \n",
      "[CV]  n_estimators=200, min_samples_split=20, min_samples_leaf=2, max_features=auto, max_depth=10, learning_rate=0.05, score=0.703603238254326, total=  41.9s\n",
      "[Parallel(n_jobs=1)]: Done  92 out of  92 | elapsed: 55.8min remaining:    0.0s\n",
      "[CV] n_estimators=200, min_samples_split=20, min_samples_leaf=2, max_features=auto, max_depth=10, learning_rate=0.05 \n",
      "[CV]  n_estimators=200, min_samples_split=20, min_samples_leaf=2, max_features=auto, max_depth=10, learning_rate=0.05, score=0.6473019222478847, total=  44.8s\n",
      "[Parallel(n_jobs=1)]: Done  93 out of  93 | elapsed: 56.5min remaining:    0.0s\n",
      "[CV] n_estimators=200, min_samples_split=20, min_samples_leaf=2, max_features=auto, max_depth=10, learning_rate=0.05 \n",
      "[CV]  n_estimators=200, min_samples_split=20, min_samples_leaf=2, max_features=auto, max_depth=10, learning_rate=0.05, score=0.6773098670443838, total=  40.3s\n",
      "[Parallel(n_jobs=1)]: Done  94 out of  94 | elapsed: 57.2min remaining:    0.0s\n",
      "[CV] n_estimators=200, min_samples_split=20, min_samples_leaf=2, max_features=auto, max_depth=10, learning_rate=0.05 \n"
     ]
    },
    {
     "name": "stdout",
     "output_type": "stream",
     "text": [
      "[CV]  n_estimators=200, min_samples_split=20, min_samples_leaf=2, max_features=auto, max_depth=10, learning_rate=0.05, score=0.7056332018003252, total=  44.0s\n",
      "[Parallel(n_jobs=1)]: Done  95 out of  95 | elapsed: 58.0min remaining:    0.0s\n",
      "[CV] n_estimators=200, min_samples_split=40, min_samples_leaf=4, max_features=sqrt, max_depth=20, learning_rate=0.01 \n",
      "[CV]  n_estimators=200, min_samples_split=40, min_samples_leaf=4, max_features=sqrt, max_depth=20, learning_rate=0.01, score=0.675076581124683, total=  16.5s\n",
      "[Parallel(n_jobs=1)]: Done  96 out of  96 | elapsed: 58.2min remaining:    0.0s\n",
      "[CV] n_estimators=200, min_samples_split=40, min_samples_leaf=4, max_features=sqrt, max_depth=20, learning_rate=0.01 \n",
      "[CV]  n_estimators=200, min_samples_split=40, min_samples_leaf=4, max_features=sqrt, max_depth=20, learning_rate=0.01, score=0.6431611814536435, total=  15.6s\n",
      "[Parallel(n_jobs=1)]: Done  97 out of  97 | elapsed: 58.5min remaining:    0.0s\n",
      "[CV] n_estimators=200, min_samples_split=40, min_samples_leaf=4, max_features=sqrt, max_depth=20, learning_rate=0.01 \n",
      "[CV]  n_estimators=200, min_samples_split=40, min_samples_leaf=4, max_features=sqrt, max_depth=20, learning_rate=0.01, score=0.5990475987722506, total=  15.9s\n",
      "[Parallel(n_jobs=1)]: Done  98 out of  98 | elapsed: 58.8min remaining:    0.0s\n",
      "[CV] n_estimators=200, min_samples_split=40, min_samples_leaf=4, max_features=sqrt, max_depth=20, learning_rate=0.01 \n",
      "[CV]  n_estimators=200, min_samples_split=40, min_samples_leaf=4, max_features=sqrt, max_depth=20, learning_rate=0.01, score=0.6180767875050023, total=  16.5s\n",
      "[Parallel(n_jobs=1)]: Done  99 out of  99 | elapsed: 59.1min remaining:    0.0s\n",
      "[CV] n_estimators=200, min_samples_split=40, min_samples_leaf=4, max_features=sqrt, max_depth=20, learning_rate=0.01 \n",
      "[CV]  n_estimators=200, min_samples_split=40, min_samples_leaf=4, max_features=sqrt, max_depth=20, learning_rate=0.01, score=0.6476453227905544, total=  14.7s\n",
      "[Parallel(n_jobs=1)]: Done 100 out of 100 | elapsed: 59.3min finished\n"
     ]
    },
    {
     "data": {
      "text/plain": [
       "RandomizedSearchCV(cv=5, error_score='raise',\n",
       "          estimator=GradientBoostingRegressor(alpha=0.9, criterion='friedman_mse', init=None,\n",
       "             learning_rate=0.1, loss='ls', max_depth=3, max_features=None,\n",
       "             max_leaf_nodes=None, min_impurity_decrease=0.0,\n",
       "             min_impurity_split=None, min_samples_leaf=1,\n",
       "             min_samples_split=2, min_weight_fraction_leaf=0.0,\n",
       "             n_estimators=100, presort='auto', random_state=None,\n",
       "             subsample=1.0, verbose=0, warm_start=False),\n",
       "          fit_params=None, iid=True, n_iter=20, n_jobs=1,\n",
       "          param_distributions={'n_estimators': [100, 200], 'max_features': ['auto', 'sqrt'], 'learning_rate': [0.01, 0.05, 0.1], 'max_depth': [10, 20], 'min_samples_split': [2, 5, 10, 20, 40, 60], 'min_samples_leaf': [1, 2, 4, 8, 16]},\n",
       "          pre_dispatch='2*n_jobs', random_state=42, refit=True,\n",
       "          return_train_score='warn', scoring='r2', verbose=100)"
      ]
     },
     "execution_count": 76,
     "metadata": {},
     "output_type": "execute_result"
    }
   ],
   "source": [
    "# Number of trees in random forest\n",
    "n_estimators = [100, 200]\n",
    "learning_rate = [0.01, 0.05, 0.1]\n",
    "# Number of features to consider at every split\n",
    "max_features = ['auto', 'sqrt']\n",
    "# Maximum number of levels in tree\n",
    "max_depth = [10, 20]\n",
    "# Minimum number of samples required to split a node\n",
    "min_samples_split = [2, 5, 10, 20, 40, 60]\n",
    "# Minimum number of samples required at each leaf node\n",
    "min_samples_leaf = [1, 2, 4, 8, 16]\n",
    "# Method of selecting samples for training each tree\n",
    "bootstrap = [True, False]\n",
    "# Create the random grid\n",
    "random_boost = {'n_estimators': n_estimators,\n",
    "               'max_features': max_features,\n",
    "                'learning_rate' : learning_rate,\n",
    "               'max_depth': max_depth,\n",
    "               'min_samples_split': min_samples_split,\n",
    "               'min_samples_leaf': min_samples_leaf\n",
    "               }\n",
    "\n",
    "# random_grid = {\"max_depth\": [3, None],\n",
    "#               \"max_features\": sp_randint(1, 11),\n",
    "#               \"min_samples_split\": sp_randint(2, 11),\n",
    "#               \"min_samples_leaf\": sp_randint(1, 11),\n",
    "#               \"bootstrap\": [True, False]\n",
    "#               }\n",
    "\n",
    "# Use the random grid to search for best hyperparameters\n",
    "# First create the base model to tune\n",
    "boost = GradientBoostingRegressor()\n",
    "# Random search of parameters, using 3 fold cross validation, \n",
    "# search across 100 different combinations, and use all available cores\n",
    "boost_random = RandomizedSearchCV(estimator = boost, param_distributions = random_boost, n_iter = 20, cv = 5, verbose=100, random_state=42, scoring='r2', n_jobs=1)\n",
    "# Fit the random search model\n",
    "boost_random.fit(X, Y)\n"
   ]
  },
  {
   "cell_type": "code",
   "execution_count": 16,
   "metadata": {},
   "outputs": [],
   "source": [
    "# boost = boost_random.best_estimator_\n",
    "# print(boost_random.best_score_)\n",
    "# boost_random.best_params_\n",
    "boost_params = {'n_estimators': 200,\n",
    " 'min_samples_split': 40,\n",
    " 'min_samples_leaf': 4,\n",
    " 'max_features': 'sqrt',\n",
    " 'max_depth': 20,\n",
    " 'learning_rate': 0.05}\n",
    "boost = GradientBoostingRegressor(**boost_params)"
   ]
  },
  {
   "cell_type": "code",
   "execution_count": 17,
   "metadata": {},
   "outputs": [
    {
     "data": {
      "text/plain": [
       "0.7125834768913233"
      ]
     },
     "execution_count": 17,
     "metadata": {},
     "output_type": "execute_result"
    }
   ],
   "source": [
    "boost.fit(X, Y)\n",
    "y_pred = boost.predict(X_test)\n",
    "r2_score(Y_test, y_pred)"
   ]
  },
  {
   "cell_type": "code",
   "execution_count": 188,
   "metadata": {},
   "outputs": [
    {
     "name": "stdout",
     "output_type": "stream",
     "text": [
      "[CV]  ................................................................\n",
      "[CV] ....................... , score=0.6967982006688165, total=  11.2s\n",
      "[CV]  ................................................................\n"
     ]
    },
    {
     "name": "stderr",
     "output_type": "stream",
     "text": [
      "[Parallel(n_jobs=1)]: Done   1 out of   1 | elapsed:   11.2s remaining:    0.0s\n"
     ]
    },
    {
     "name": "stdout",
     "output_type": "stream",
     "text": [
      "[CV] ....................... , score=0.7197755917487962, total=  11.7s\n",
      "[CV]  ................................................................\n"
     ]
    },
    {
     "name": "stderr",
     "output_type": "stream",
     "text": [
      "[Parallel(n_jobs=1)]: Done   2 out of   2 | elapsed:   23.0s remaining:    0.0s\n"
     ]
    },
    {
     "name": "stdout",
     "output_type": "stream",
     "text": [
      "[CV] ....................... , score=0.7023639842174604, total=  11.6s\n",
      "[CV]  ................................................................\n"
     ]
    },
    {
     "name": "stderr",
     "output_type": "stream",
     "text": [
      "[Parallel(n_jobs=1)]: Done   3 out of   3 | elapsed:   34.7s remaining:    0.0s\n"
     ]
    },
    {
     "name": "stdout",
     "output_type": "stream",
     "text": [
      "[CV] ....................... , score=0.6836275506104461, total=  12.2s\n",
      "[CV]  ................................................................\n"
     ]
    },
    {
     "name": "stderr",
     "output_type": "stream",
     "text": [
      "[Parallel(n_jobs=1)]: Done   4 out of   4 | elapsed:   47.0s remaining:    0.0s\n"
     ]
    },
    {
     "name": "stdout",
     "output_type": "stream",
     "text": [
      "[CV] ....................... , score=0.7122290087346013, total=  11.9s\n"
     ]
    },
    {
     "name": "stderr",
     "output_type": "stream",
     "text": [
      "[Parallel(n_jobs=1)]: Done   5 out of   5 | elapsed:   59.1s finished\n"
     ]
    },
    {
     "data": {
      "text/plain": [
       "0.7029588671960241"
      ]
     },
     "execution_count": 188,
     "metadata": {},
     "output_type": "execute_result"
    }
   ],
   "source": [
    "np.mean(cross_val_score(boost, X, Y, scoring='r2', cv=5, verbose=5))"
   ]
  },
  {
   "cell_type": "code",
   "execution_count": 17,
   "metadata": {},
   "outputs": [
    {
     "data": {
      "image/png": "[encoded data removed]",
      "text/plain": [
       "<Figure size 576x576 with 1 Axes>"
      ]
     },
     "metadata": {},
     "output_type": "display_data"
    }
   ],
   "source": [
    "boost.fit(X, Y)\n",
    "boost.feature_importances_\n",
    "\n",
    "feat_imp = pd.DataFrame({'importance':boost.feature_importances_})    \n",
    "feat_imp['feature'] = X.columns\n",
    "feat_imp.sort_values(by='importance', ascending=False, inplace=True)\n",
    "feat_imp = feat_imp.iloc[:30]\n",
    "feat_imp.sort_values(by='importance', inplace=True)\n",
    "feat_imp = feat_imp.set_index('feature', drop=True)\n",
    "feat_imp.plot.barh(title=\"feature_importance\", figsize=(8,8))\n",
    "plt.xlabel('Feature Importance Score')\n",
    "plt.show()"
   ]
  },
  {
   "cell_type": "code",
   "execution_count": 85,
   "metadata": {},
   "outputs": [],
   "source": [
    "stregr = StackingRegressor(regressors=[boost], meta_regressor=rf)\n",
    "# stregr.fit(X,Y)"
   ]
  },
  {
   "cell_type": "code",
   "execution_count": 86,
   "metadata": {},
   "outputs": [
    {
     "name": "stdout",
     "output_type": "stream",
     "text": [
      "[CV]  ................................................................\n",
      "[CV] ....................... , score=0.7399893249402107, total=  12.6s\n",
      "[CV]  ................................................................\n"
     ]
    },
    {
     "name": "stderr",
     "output_type": "stream",
     "text": [
      "[Parallel(n_jobs=1)]: Done   1 out of   1 | elapsed:   12.6s remaining:    0.0s\n"
     ]
    },
    {
     "name": "stdout",
     "output_type": "stream",
     "text": [
      "[CV] ....................... , score=0.6930240970955002, total=  12.6s\n",
      "[CV]  ................................................................\n"
     ]
    },
    {
     "name": "stderr",
     "output_type": "stream",
     "text": [
      "[Parallel(n_jobs=1)]: Done   2 out of   2 | elapsed:   25.2s remaining:    0.0s\n"
     ]
    },
    {
     "name": "stdout",
     "output_type": "stream",
     "text": [
      "[CV] ....................... , score=0.6650116629251916, total=  13.2s\n",
      "[CV]  ................................................................\n"
     ]
    },
    {
     "name": "stderr",
     "output_type": "stream",
     "text": [
      "[Parallel(n_jobs=1)]: Done   3 out of   3 | elapsed:   38.5s remaining:    0.0s\n"
     ]
    },
    {
     "name": "stdout",
     "output_type": "stream",
     "text": [
      "[CV] ....................... , score=0.6850108162196986, total=  12.6s\n",
      "[CV]  ................................................................\n"
     ]
    },
    {
     "name": "stderr",
     "output_type": "stream",
     "text": [
      "[Parallel(n_jobs=1)]: Done   4 out of   4 | elapsed:   51.2s remaining:    0.0s\n"
     ]
    },
    {
     "name": "stdout",
     "output_type": "stream",
     "text": [
      "[CV] ....................... , score=0.6993123608110139, total=  12.7s\n"
     ]
    },
    {
     "name": "stderr",
     "output_type": "stream",
     "text": [
      "[Parallel(n_jobs=1)]: Done   5 out of   5 | elapsed:  1.1min finished\n"
     ]
    },
    {
     "data": {
      "text/plain": [
       "0.696469652398323"
      ]
     },
     "execution_count": 86,
     "metadata": {},
     "output_type": "execute_result"
    }
   ],
   "source": [
    "# y_pred = stregr.predict(X)\n",
    "# r2_score(Y, y_pred)\n",
    "np.mean(cross_val_score(stregr, X, Y, scoring='r2', cv=5, verbose=5))"
   ]
  },
  {
   "cell_type": "code",
   "execution_count": 30,
   "metadata": {},
   "outputs": [
    {
     "name": "stdout",
     "output_type": "stream",
     "text": [
      "[CV]  ................................................................\n",
      "[CV] ....................... , score=0.6699370299131656, total= 1.5min\n",
      "[CV]  ................................................................\n"
     ]
    },
    {
     "name": "stderr",
     "output_type": "stream",
     "text": [
      "[Parallel(n_jobs=1)]: Done   1 out of   1 | elapsed:  1.5min remaining:    0.0s\n"
     ]
    },
    {
     "name": "stdout",
     "output_type": "stream",
     "text": [
      "[CV] ....................... , score=0.6389698485339972, total= 1.6min\n",
      "[CV]  ................................................................\n"
     ]
    },
    {
     "name": "stderr",
     "output_type": "stream",
     "text": [
      "[Parallel(n_jobs=1)]: Done   2 out of   2 | elapsed:  3.1min remaining:    0.0s\n"
     ]
    },
    {
     "name": "stdout",
     "output_type": "stream",
     "text": [
      "[CV] ....................... , score=0.6393246001567718, total= 1.6min\n",
      "[CV]  ................................................................\n"
     ]
    },
    {
     "name": "stderr",
     "output_type": "stream",
     "text": [
      "[Parallel(n_jobs=1)]: Done   3 out of   3 | elapsed:  4.6min remaining:    0.0s\n"
     ]
    },
    {
     "name": "stdout",
     "output_type": "stream",
     "text": [
      "[CV] ........................ , score=0.665406693116912, total= 1.7min\n",
      "[CV]  ................................................................\n"
     ]
    },
    {
     "name": "stderr",
     "output_type": "stream",
     "text": [
      "[Parallel(n_jobs=1)]: Done   4 out of   4 | elapsed:  6.3min remaining:    0.0s\n"
     ]
    },
    {
     "name": "stdout",
     "output_type": "stream",
     "text": [
      "[CV] ....................... , score=0.6843048233346447, total= 1.6min\n"
     ]
    },
    {
     "name": "stderr",
     "output_type": "stream",
     "text": [
      "[Parallel(n_jobs=1)]: Done   5 out of   5 | elapsed:  7.9min finished\n"
     ]
    },
    {
     "data": {
      "text/plain": [
       "0.6595885990110982"
      ]
     },
     "execution_count": 30,
     "metadata": {},
     "output_type": "execute_result"
    }
   ],
   "source": [
    "br = BaggingRegressor(rf)\n",
    "np.mean(cross_val_score(br, X, Y, scoring='r2', cv=5, verbose=5))\n",
    "# br.fit(X, Y)\n",
    "# y_pred = br.predict(X)\n",
    "# r2_score(Y, y_pred)"
   ]
  },
  {
   "cell_type": "code",
   "execution_count": 189,
   "metadata": {},
   "outputs": [],
   "source": [
    "ado = AdaBoostRegressor(base_estimator=DecisionTreeRegressor(), n_estimators=500, learning_rate=1)"
   ]
  },
  {
   "cell_type": "code",
   "execution_count": 190,
   "metadata": {},
   "outputs": [
    {
     "name": "stderr",
     "output_type": "stream",
     "text": [
      "[Parallel(n_jobs=-1)]: Done   2 out of   5 | elapsed:  3.4min remaining:  5.1min\n",
      "[Parallel(n_jobs=-1)]: Done   5 out of   5 | elapsed:  3.5min finished\n"
     ]
    },
    {
     "data": {
      "text/plain": [
       "0.7016846072597269"
      ]
     },
     "execution_count": 190,
     "metadata": {},
     "output_type": "execute_result"
    }
   ],
   "source": [
    "np.mean(cross_val_score(ado, X, Y, scoring='r2', cv=5, verbose=5, n_jobs=-1))\n",
    "# ado.fit(X, Y)\n",
    "# y_pred= ado.predict(X)\n",
    "# r2_score(Y, y_pred)"
   ]
  }
 ],
 "metadata": {
  "kernelspec": {
   "display_name": "Python 3",
   "language": "python",
   "name": "python3"
  },
  "language_info": {
   "codemirror_mode": {
    "name": "ipython",
    "version": 3
   },
   "file_extension": ".py",
   "mimetype": "text/x-python",
   "name": "python",
   "nbconvert_exporter": "python",
   "pygments_lexer": "ipython3",
   "version": "3.6.5"
  }
 },
 "nbformat": 4,
 "nbformat_minor": 2
}
