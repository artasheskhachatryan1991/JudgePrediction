{
 "cells": [
  {
   "cell_type": "code",
   "execution_count": 7,
   "metadata": {},
   "outputs": [
    {
     "name": "stdout",
     "output_type": "stream",
     "text": [
      "Config variable 'Py_DEBUG' is unset, Python ABI tag may be incorrect\n",
      "Config variable 'WITH_PYMALLOC' is unset, Python ABI tag may be incorrect\n",
      "Created temporary directory: C:\\Users\\ADMINI~1\\AppData\\Local\\Temp\\pip-ephem-wheel-cache-cdh90sxu\n",
      "Created temporary directory: C:\\Users\\ADMINI~1\\AppData\\Local\\Temp\\pip-install-u5i148b6\n",
      "Collecting xgboost\n",
      "  1 location(s) to search for versions of xgboost:\n",
      "  * https://pypi.org/simple/xgboost/\n",
      "  Getting page https://pypi.org/simple/xgboost/\n",
      "  Looking up \"https://pypi.org/simple/xgboost/\" in the cache\n",
      "  Current age based on date: 341\n",
      "  Freshness lifetime from max-age: 600\n",
      "  Freshness lifetime from request max-age: 600\n",
      "  The response is \"fresh\", returning cached response\n",
      "  600 > 341\n",
      "  Analyzing links from page https://pypi.org/simple/xgboost/\n",
      "    Found link https://files.pythonhosted.org/packages/65/4e/05d8fe3dd568cf57fe76edb3018d2a7d8bc57611b8fef6dd2e4cfb6c794a/xgboost-0.4a12.tar.gz#sha256=2587c714a2acbfebd408d3ab3104807e1a8313fe8e7daf7288bd982649f0e154 (from https://pypi.org/simple/xgboost/), version: 0.4a12\n",
      "    Found link https://files.pythonhosted.org/packages/97/7b/344e3b849bb041dca7c6cab66be8007f64cdceebcb41cda9f1e10bc651d9/xgboost-0.4a13.tar.gz#sha256=26c307d47ae35b4bd5cde0075770bd98b644dc0ae471c1b882062e8b2e12cbb2 (from https://pypi.org/simple/xgboost/), version: 0.4a13\n",
      "    Found link https://files.pythonhosted.org/packages/6c/d7/b7e5027c95f1bd6676062af56bfbd53eee567f8384a4aa582330360a3989/xgboost-0.4a14.tar.gz#sha256=2badab090ea80cb622a41c11849a6ab2a64d515f6a2005b2f2ed182becf47836 (from https://pypi.org/simple/xgboost/), version: 0.4a14\n",
      "    Found link https://files.pythonhosted.org/packages/16/ac/dd16a3206de8658a5e0076174941ae642ee10c958c53a35a7500993ca936/xgboost-0.4a15.tar.gz#sha256=d61679623cf043e1d1392e6f74a9b3e5d9f1e6d9cf73b35c953e4143abc533ac (from https://pypi.org/simple/xgboost/), version: 0.4a15\n",
      "    Found link https://files.pythonhosted.org/packages/b3/ec/110721470306e8c9199c46217cfff5c32ad1e7e8a2dabefa2603d79b32bc/xgboost-0.4a18.tar.gz#sha256=35b1fef405031ea8668f2fa1ba4c53aca4fe6d16e0fabac098fc9829eccac01d (from https://pypi.org/simple/xgboost/), version: 0.4a18\n",
      "    Found link https://files.pythonhosted.org/packages/7a/b4/fa38771ebd221dd83aa37864157daebb7d8446fd6c3614dc6f56932f9643/xgboost-0.4a19.tar.gz#sha256=03a62506ebe4205b4af6e65309033fdd5493c128e6a794f3b068d052551700b1 (from https://pypi.org/simple/xgboost/), version: 0.4a19\n",
      "    Found link https://files.pythonhosted.org/packages/cd/4d/9a9341759aa32358b794db9e21cd0825e9107e2fc7a641e285eb1b0b69b8/xgboost-0.4a20.tar.gz#sha256=3b53d969021c40250e228f1480c957b9038eb2120788da55365ea037d2161c30 (from https://pypi.org/simple/xgboost/), version: 0.4a20\n",
      "    Found link https://files.pythonhosted.org/packages/92/37/d7b963a6b307941e86758bd3330d62ace0c83eaf60fbacf8486a6e8d72da/xgboost-0.4a21.tar.gz#sha256=79298b93155d9997342c730158528d892db5b02f743dbf3655a6f24079ece49a (from https://pypi.org/simple/xgboost/), version: 0.4a21\n",
      "    Found link https://files.pythonhosted.org/packages/20/95/c089ee1be6574ed8167f0bfbd5f78c1adc7b1403ba3977d5ae98003882af/xgboost-0.4a22.tar.gz#sha256=5b458ded211195acabd1e65521ba87c0adf82ed46cb5c79d43508ab98b1ec07f (from https://pypi.org/simple/xgboost/), version: 0.4a22\n",
      "    Found link https://files.pythonhosted.org/packages/71/aa/206c86bc4be36832f8c73491d972a6c1bcdcd2717f1fb04d0bad0c61ae35/xgboost-0.4a23.tar.gz#sha256=91b5e021e77b5ecb0a659460c61d41b05032506b8b32f3e5b99d454e47c75548 (from https://pypi.org/simple/xgboost/), version: 0.4a23\n",
      "    Found link https://files.pythonhosted.org/packages/ca/58/2c3265f4824a8c3a33784e7236adb7808d3c647cfe962045fcc53d10d570/xgboost-0.4a24.tar.gz#sha256=0ec2d86d7636ac7bfdab24ad9cb09c9435c2d56c4ec54fccce684566d659cc1b (from https://pypi.org/simple/xgboost/), version: 0.4a24\n",
      "    Found link https://files.pythonhosted.org/packages/4f/70/a236e5170ab7f72cf49554400d841a2046d7c712e2cf6524a435612469a4/xgboost-0.4a25.tar.gz#sha256=e5bec09cda7ef35733cb4cc02672a1dc0e824cebd9d0aaf4e99f0158993edf78 (from https://pypi.org/simple/xgboost/), version: 0.4a25\n",
      "    Found link https://files.pythonhosted.org/packages/4a/cc/9556005199e9f550c97bc1e81bff64431c952a9968f78651ba48b9687243/xgboost-0.4a26.tar.gz#sha256=6f2f9200cd018283258622081d0720e4905f2e384839f50987884b353c6550f4 (from https://pypi.org/simple/xgboost/), version: 0.4a26\n",
      "    Found link https://files.pythonhosted.org/packages/ec/c1/93d27b079b5edd76bc93d6cefcf82e667942bb576a5f764742401febe161/xgboost-0.4a27.tar.gz#sha256=a5710e7cff27cb87639eef1039f907f082241fe89f1f3ce6a10c6b29ad0f7f7d (from https://pypi.org/simple/xgboost/), version: 0.4a27\n",
      "    Found link https://files.pythonhosted.org/packages/21/5c/a221a2ea13ee14acd1ddc59e213fc788ebd2e7550249adbb12934367aa58/xgboost-0.4a28.tar.gz#sha256=081f667cfe78a83ffd2de91aa3a22345eea0571007ce3942b50523b105a28523 (from https://pypi.org/simple/xgboost/), version: 0.4a28\n",
      "    Found link https://files.pythonhosted.org/packages/7e/16/d47c4ba06a5b4d364a7323013e040f3f21d50db2b50cfc962bad674b873f/xgboost-0.4a29.tar.gz#sha256=7040c1b87aad12bf51996df02cde9f8c7e9bd70ff681786da61613df4d1109cc (from https://pypi.org/simple/xgboost/), version: 0.4a29\n",
      "    Found link https://files.pythonhosted.org/packages/58/85/94517fb4933fbc66c87df3f0166c48e421b1d3d082d8d0b29960f4e3b643/xgboost-0.4a30.tar.gz#sha256=7adba625ec9f07849362fa21d1e1bacf51ef0afa7c988d123026c911ad7d9b8d (from https://pypi.org/simple/xgboost/), version: 0.4a30\n",
      "    Found link https://files.pythonhosted.org/packages/7f/36/e55ba853acc85d7ebaddec498c72c768bb2700415c5a2ea967a0b8dc8957/xgboost-0.6a1.tar.gz#sha256=919050c614d24917016de1fb4cd54eea513e17b9ba714dc5f55e0f7eb376348d (from https://pypi.org/simple/xgboost/), version: 0.6a1\n",
      "    Found link https://files.pythonhosted.org/packages/34/85/456a1a8c762f646671043e446a59efbce02b5f408f522c4ef8793e860c5e/xgboost-0.6a2.tar.gz#sha256=ebc4e2bf8c8266212e342ff8ec4f6ae469e8c41a05d099b6778de8424ce32563 (from https://pypi.org/simple/xgboost/), version: 0.6a2\n",
      "    Found link https://files.pythonhosted.org/packages/cb/1c/a2ec1798d444e2b86b27fdbf18d9ab08c25c3d374de77429b55a76f42404/xgboost-0.7.post3.tar.gz#sha256=4224193159763ab50352b3c53087510a9ebef4c9dcbafb5c5f8c7e2a1d6d7b70 (from https://pypi.org/simple/xgboost/), version: 0.7.post3\n",
      "    Found link https://files.pythonhosted.org/packages/67/d0/5b9b883fe4b6ca671cdcc80e37459ccb9ab5654bb466c696f414d282c21c/xgboost-0.7.post4.tar.gz#sha256=62be4ffcb9175f992f803380bc137b9a3a29b6ced6d4120bfd5f16be81d9fe73 (from https://pypi.org/simple/xgboost/), version: 0.7.post4\n",
      "    Found link https://files.pythonhosted.org/packages/4b/c4/57e246bc99e45c048f9805f2773e7369f0d30896d19fa089fa1794c7b246/xgboost-0.71.tar.gz#sha256=a76fb937fe28c7ce2a7348173efba90eb3524454b0ce4e196d8124e6edab9ec4 (from https://pypi.org/simple/xgboost/), version: 0.71\n",
      "    Skipping link https://files.pythonhosted.org/packages/06/7a/442f7da21792566012e5c7e5a7dffa44c1b6cc05c0c27856bbc8a7718b28/xgboost-0.72.1-py2.py3-none-manylinux1_x86_64.whl#sha256=8cc0358ad97f2e75141e6d93b0be1ee245adbdc0fa4d9318e5560b6e0889c8af (from https://pypi.org/simple/xgboost/); it is not compatible with this Python\n",
      "    Found link https://files.pythonhosted.org/packages/49/40/dfc5d356d2bf002298f0d1b8f7fd08671a455828f5804818a36d964bb29d/xgboost-0.72.1.tar.gz#sha256=a4be2482694351b6610f1d8faf79eb049ca572aec80c8ba00c7020b8d44d8c1d (from https://pypi.org/simple/xgboost/), version: 0.72.1\n",
      "  Using version 0.72.1 (newest of versions: 0.7.post3, 0.7.post4, 0.71, 0.72.1)\n",
      "  Created temporary directory: C:\\Users\\ADMINI~1\\AppData\\Local\\Temp\\pip-unpack-trdmfc0j\n",
      "  Looking up \"https://files.pythonhosted.org/packages/49/40/dfc5d356d2bf002298f0d1b8f7fd08671a455828f5804818a36d964bb29d/xgboost-0.72.1.tar.gz\" in the cache\n",
      "  Ignoring unknown cache-control directive: \n",
      "  Current age based on date: 339\n",
      "  Ignoring unknown cache-control directive: immutable\n",
      "  Freshness lifetime from max-age: 365000000\n",
      "  The response is \"fresh\", returning cached response\n",
      "  365000000 > 339\n",
      "  Using cached https://files.pythonhosted.org/packages/49/40/dfc5d356d2bf002298f0d1b8f7fd08671a455828f5804818a36d964bb29d/xgboost-0.72.1.tar.gz\n",
      "  Downloading from URL https://files.pythonhosted.org/packages/49/40/dfc5d356d2bf002298f0d1b8f7fd08671a455828f5804818a36d964bb29d/xgboost-0.72.1.tar.gz#sha256=a4be2482694351b6610f1d8faf79eb049ca572aec80c8ba00c7020b8d44d8c1d (from https://pypi.org/simple/xgboost/)\n",
      "  Running setup.py (path:C:\\Users\\ADMINI~1\\AppData\\Local\\Temp\\pip-install-u5i148b6\\xgboost\\setup.py) egg_info for package xgboost\n",
      "    Running command python setup.py egg_info\n",
      "    Windows users please use github installation.\n",
      "Cleaning up...\n",
      "  Removing source in C:\\Users\\ADMINI~1\\AppData\\Local\\Temp\\pip-install-u5i148b6\\xgboost\n",
      "Exception information:\n",
      "Traceback (most recent call last):\n",
      "  File \"c:\\python36-64\\lib\\site-packages\\pip\\_internal\\basecommand.py\", line 228, in main\n",
      "    status = self.run(options, args)\n",
      "  File \"c:\\python36-64\\lib\\site-packages\\pip\\_internal\\commands\\install.py\", line 291, in run\n",
      "    resolver.resolve(requirement_set)\n",
      "  File \"c:\\python36-64\\lib\\site-packages\\pip\\_internal\\resolve.py\", line 103, in resolve\n",
      "    self._resolve_one(requirement_set, req)\n",
      "  File \"c:\\python36-64\\lib\\site-packages\\pip\\_internal\\resolve.py\", line 257, in _resolve_one\n",
      "    abstract_dist = self._get_abstract_dist_for(req_to_install)\n",
      "  File \"c:\\python36-64\\lib\\site-packages\\pip\\_internal\\resolve.py\", line 210, in _get_abstract_dist_for\n",
      "    self.require_hashes\n",
      "  File \"c:\\python36-64\\lib\\site-packages\\pip\\_internal\\operations\\prepare.py\", line 324, in prepare_linked_requirement\n",
      "    abstract_dist.prep_for_dist(finder, self.build_isolation)\n",
      "  File \"c:\\python36-64\\lib\\site-packages\\pip\\_internal\\operations\\prepare.py\", line 154, in prep_for_dist\n",
      "    self.req.run_egg_info()\n",
      "  File \"c:\\python36-64\\lib\\site-packages\\pip\\_internal\\req\\req_install.py\", line 502, in run_egg_info\n",
      "    metadata_name = canonicalize_name(self.pkg_info()[\"Name\"])\n",
      "  File \"c:\\python36-64\\lib\\site-packages\\pip\\_internal\\req\\req_install.py\", line 580, in pkg_info\n",
      "    data = self.egg_info_data('PKG-INFO')\n",
      "  File \"c:\\python36-64\\lib\\site-packages\\pip\\_internal\\req\\req_install.py\", line 518, in egg_info_data\n",
      "    filename = self.egg_info_path(filename)\n",
      "  File \"c:\\python36-64\\lib\\site-packages\\pip\\_internal\\req\\req_install.py\", line 562, in egg_info_path\n",
      "    'No files/directories in %s (from %s)' % (base, filename)\n",
      "pip._internal.exceptions.InstallationError: No files/directories in C:\\Users\\ADMINI~1\\AppData\\Local\\Temp\\pip-install-u5i148b6\\xgboost\\pip-egg-info (from PKG-INFO)\n"
     ]
    },
    {
     "name": "stderr",
     "output_type": "stream",
     "text": [
      "No files/directories in C:\\Users\\ADMINI~1\\AppData\\Local\\Temp\\pip-install-u5i148b6\\xgboost\\pip-egg-info (from PKG-INFO)\n"
     ]
    }
   ],
   "source": [
    "!pip install -v xgboost"
   ]
  },
  {
   "cell_type": "code",
   "execution_count": 8,
   "metadata": {},
   "outputs": [],
   "source": [
    "import xgboost"
   ]
  }
 ],
 "metadata": {
  "kernelspec": {
   "display_name": "Python 3",
   "language": "python",
   "name": "python3"
  },
  "language_info": {
   "codemirror_mode": {
    "name": "ipython",
    "version": 3
   },
   "file_extension": ".py",
   "mimetype": "text/x-python",
   "name": "python",
   "nbconvert_exporter": "python",
   "pygments_lexer": "ipython3",
   "version": "3.6.5"
  }
 },
 "nbformat": 4,
 "nbformat_minor": 2
}
