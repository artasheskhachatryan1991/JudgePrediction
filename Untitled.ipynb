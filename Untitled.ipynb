{
 "cells": [
  {
   "cell_type": "code",
   "execution_count": 33,
   "metadata": {},
   "outputs": [],
   "source": [
    "A = open(\"new1.sql\")\n",
    "text_file = open(\"Output.txt\", \"w\")\n",
    "lines = [line.rstrip('\\n') for line in A]\n",
    "result = [] \n",
    "for line in lines:    \n",
    "    if line.startswith(\" DELETE\"):\n",
    "#         tmp = s.split(\" \", 1)\n",
    "        line = line + \" where courtcaseid in (select courtcaseid from _tmp)\"\n",
    "    text_file.write(line +'\\n')"
   ]
  }
 ],
 "metadata": {
  "kernelspec": {
   "display_name": "Python 3",
   "language": "python",
   "name": "python3"
  },
  "language_info": {
   "codemirror_mode": {
    "name": "ipython",
    "version": 3
   },
   "file_extension": ".py",
   "mimetype": "text/x-python",
   "name": "python",
   "nbconvert_exporter": "python",
   "pygments_lexer": "ipython3",
   "version": "3.6.5"
  }
 },
 "nbformat": 4,
 "nbformat_minor": 2
}
